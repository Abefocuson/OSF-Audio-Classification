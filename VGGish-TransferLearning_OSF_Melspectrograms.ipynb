{
 "cells": [
  {
   "cell_type": "markdown",
   "metadata": {},
   "source": [
    "### OSF Cough Audio Classifier with Deep Learning\n",
    "\n",
    "Build a CNN sound classifier (transfer learning from pretrained VGGish model) using melspectograms from OSF cough audio dataset."
   ]
  },
  {
   "cell_type": "code",
   "execution_count": 1,
   "metadata": {},
   "outputs": [],
   "source": [
    "%matplotlib inline\n",
    "from keras.preprocessing import image\n",
    "from keras.models import Sequential, Model\n",
    "from keras.layers import Dense, Dropout, Flatten, Input\n",
    "from keras.utils import multi_gpu_model\n",
    "import numpy as np\n",
    "import json\n",
    "import PIL"
   ]
  },
  {
   "cell_type": "code",
   "execution_count": 2,
   "metadata": {},
   "outputs": [],
   "source": [
    "from vggish_params import *\n",
    "from vggish import *"
   ]
  },
  {
   "cell_type": "code",
   "execution_count": 3,
   "metadata": {},
   "outputs": [],
   "source": [
    "from __future__ import print_function\n",
    "from __future__ import absolute_import\n",
    "\n",
    "import sys\n",
    "\n",
    "from keras.models import Model\n",
    "from keras.layers import Flatten, Dense, Input, Conv2D, MaxPooling2D, GlobalAveragePooling2D, GlobalMaxPooling2D\n",
    "from keras.engine.topology import get_source_inputs\n",
    "from keras import backend as K\n",
    "\n",
    "import vggish_params as params\n",
    "\n",
    "# weight path\n",
    "WEIGHTS_PATH = '/Users/xt/Desktop/OSF/vggish_audioset_weights_without_fc2.h5'\n",
    "WEIGHTS_PATH_TOP = '/Users/xt/Desktop/OSF/vggish_audioset_weights.h5'\n",
    "\n",
    "def VGGish(load_weights=True, weights='audioset',\n",
    "           input_tensor=None, input_shape=None,\n",
    "           out_dim=None, include_top=True, pooling='max'):\n",
    "    '''\n",
    "    An implementation of the VGGish architecture.\n",
    "\n",
    "    :param load_weights: if load weights\n",
    "    :param weights: loads weights pre-trained on a preliminary version of YouTube-8M.\n",
    "    :param input_tensor: input_layer\n",
    "    :param input_shape: input data shape\n",
    "    :param out_dim: output dimension\n",
    "    :param include_top:whether to include the 3 fully-connected layers at the top of the network.\n",
    "    :param pooling: pooling type over the non-top network, 'avg' or 'max'\n",
    "\n",
    "    :return: A Keras model instance.\n",
    "    '''\n",
    "\n",
    "    if weights not in {'audioset', None}:\n",
    "        raise ValueError('The `weights` argument should be either '\n",
    "                         '`None` (random initialization) or `audioset` '\n",
    "                         '(pre-training on audioset).')\n",
    "\n",
    "    if out_dim is None:\n",
    "        out_dim = params.EMBEDDING_SIZE\n",
    "\n",
    "    # input shape\n",
    "    if input_shape is None:\n",
    "        input_shape = (params.NUM_FRAMES, params.NUM_BANDS, 1)\n",
    "\n",
    "    if input_tensor is None:\n",
    "        aud_input = Input(shape=input_shape, name='input_1')\n",
    "    else:\n",
    "        if not K.is_keras_tensor(input_tensor):\n",
    "            aud_input = Input(tensor=input_tensor, shape=input_shape, name='input_1')\n",
    "        else:\n",
    "            aud_input = input_tensor\n",
    "\n",
    "    # Block 1\n",
    "    x = Conv2D(64, (3, 3), strides=(1, 1), activation='relu', padding='same', name='conv1')(aud_input)\n",
    "    x = MaxPooling2D((2, 2), strides=(2, 2), padding='same', name='pool1')(x)\n",
    "\n",
    "    # Block 2\n",
    "    x = Conv2D(128, (3, 3), strides=(1, 1), activation='relu', padding='same', name='conv2')(x)\n",
    "    x = MaxPooling2D((2, 2), strides=(2, 2), padding='same', name='pool2')(x)\n",
    "\n",
    "    # Block 3\n",
    "    x = Conv2D(256, (3, 3), strides=(1, 1), activation='relu', padding='same', name='conv3/conv3_1')(x)\n",
    "    x = Conv2D(256, (3, 3), strides=(1, 1), activation='relu', padding='same', name='conv3/conv3_2')(x)\n",
    "    x = MaxPooling2D((2, 2), strides=(2, 2), padding='same', name='pool3')(x)\n",
    "\n",
    "    # Block 4\n",
    "    x = Conv2D(512, (3, 3), strides=(1, 1), activation='relu', padding='same', name='conv4/conv4_1')(x)\n",
    "    x = Conv2D(512, (3, 3), strides=(1, 1), activation='relu', padding='same', name='conv4/conv4_2')(x)\n",
    "    x = MaxPooling2D((2, 2), strides=(2, 2), padding='same', name='pool4')(x)\n",
    "\n",
    "    if include_top:\n",
    "        # FC block\n",
    "        x = Flatten(name='flatten_')(x)\n",
    "        x = Dense(4096, activation='relu', name='vggish_fc1/fc1_1')(x)\n",
    "        x = Dense(4096, activation='relu', name='vggish_fc1/fc1_2')(x)\n",
    "        x = Dense(out_dim, activation='relu', name='vggish_fc2')(x)\n",
    "    else:\n",
    "        if pooling == 'avg':\n",
    "            x = GlobalAveragePooling2D()(x)\n",
    "        elif pooling == 'max':\n",
    "            x = GlobalMaxPooling2D()(x)\n",
    "\n",
    "    if input_tensor is not None:\n",
    "        inputs = get_source_inputs(input_tensor)\n",
    "    else:\n",
    "        inputs = aud_input\n",
    "    # Create model.\n",
    "    model = Model(inputs, x, name='VGGish')\n",
    "\n",
    "    # load weights\n",
    "    if load_weights:\n",
    "        if weights == 'audioset':\n",
    "            if include_top:\n",
    "                model.load_weights(WEIGHTS_PATH_TOP)\n",
    "            else:\n",
    "                model.load_weights(WEIGHTS_PATH)\n",
    "        else:\n",
    "            print(\"failed to load weights\")\n",
    "\n",
    "    return model"
   ]
  },
  {
   "cell_type": "markdown",
   "metadata": {},
   "source": [
    "# Set parameter values"
   ]
  },
  {
   "cell_type": "code",
   "execution_count": 4,
   "metadata": {},
   "outputs": [],
   "source": [
    "batch_size = 128\n",
    "epochs = 50\n",
    "\n",
    "# dimensions of our images.\n",
    "img_width, img_height = 128, 128\n",
    "\n",
    "input_tensor = Input(shape=(128,128,1))\n",
    "\n",
    "nb_training_samples = 3716\n",
    "nb_validation_samples = 1219# Set parameter values"
   ]
  },
  {
   "cell_type": "markdown",
   "metadata": {},
   "source": [
    "# Configure training and validation data generators\n",
    "\n",
    "Provide paths to training and testing set directores"
   ]
  },
  {
   "cell_type": "code",
   "execution_count": 5,
   "metadata": {},
   "outputs": [
    {
     "name": "stdout",
     "output_type": "stream",
     "text": [
      "Found 3716 images belonging to 2 classes.\n",
      "Found 1219 images belonging to 2 classes.\n"
     ]
    }
   ],
   "source": [
    "# training generator configuration\n",
    "training_data_dir = '/Users/xt/Desktop/OSF/melspectrograms/train/'\n",
    "\n",
    "\n",
    "#img = img.resize((w, h), Image.LANCZOS).convert('L')\n",
    "#image_np = np.array(img )\n",
    "#image_np = np.expand_dims(image_np, -1)\n",
    "\n",
    "\n",
    "training_datagen = image.ImageDataGenerator(\n",
    "    rescale=1./255) #, rotation_range = 90)\n",
    "\n",
    "training_generator = training_datagen.flow_from_directory(\n",
    "    training_data_dir,\n",
    "    target_size=(img_height, img_width),\n",
    "    batch_size=batch_size,color_mode=\"grayscale\", shuffle=True)\n",
    "\n",
    "# validation generator configuration\n",
    "validation_data_dir ='/Users/xt/Desktop/OSF/melspectrograms/validation/'\n",
    "\n",
    "validation_datagen = image.ImageDataGenerator(\n",
    "    rescale=1./255) #, rotation_range = 90)\n",
    "\n",
    "validation_generator = validation_datagen.flow_from_directory(\n",
    "    validation_data_dir,\n",
    "    target_size=(img_height, img_width),\n",
    "    batch_size=batch_size, color_mode=\"grayscale\", shuffle=True)"
   ]
  },
  {
   "cell_type": "markdown",
   "metadata": {},
   "source": [
    "# Load base model"
   ]
  },
  {
   "cell_type": "code",
   "execution_count": 6,
   "metadata": {},
   "outputs": [
    {
     "name": "stdout",
     "output_type": "stream",
     "text": [
      "Model loaded.\n",
      "Model: \"VGGish\"\n",
      "_________________________________________________________________\n",
      "Layer (type)                 Output Shape              Param #   \n",
      "=================================================================\n",
      "input_1 (InputLayer)         [(None, 128, 128, 1)]     0         \n",
      "_________________________________________________________________\n",
      "conv1 (Conv2D)               (None, 128, 128, 64)      640       \n",
      "_________________________________________________________________\n",
      "pool1 (MaxPooling2D)         (None, 64, 64, 64)        0         \n",
      "_________________________________________________________________\n",
      "conv2 (Conv2D)               (None, 64, 64, 128)       73856     \n",
      "_________________________________________________________________\n",
      "pool2 (MaxPooling2D)         (None, 32, 32, 128)       0         \n",
      "_________________________________________________________________\n",
      "conv3/conv3_1 (Conv2D)       (None, 32, 32, 256)       295168    \n",
      "_________________________________________________________________\n",
      "conv3/conv3_2 (Conv2D)       (None, 32, 32, 256)       590080    \n",
      "_________________________________________________________________\n",
      "pool3 (MaxPooling2D)         (None, 16, 16, 256)       0         \n",
      "_________________________________________________________________\n",
      "conv4/conv4_1 (Conv2D)       (None, 16, 16, 512)       1180160   \n",
      "_________________________________________________________________\n",
      "conv4/conv4_2 (Conv2D)       (None, 16, 16, 512)       2359808   \n",
      "_________________________________________________________________\n",
      "pool4 (MaxPooling2D)         (None, 8, 8, 512)         0         \n",
      "_________________________________________________________________\n",
      "global_max_pooling2d (Global (None, 512)               0         \n",
      "=================================================================\n",
      "Total params: 4,499,712\n",
      "Trainable params: 4,499,712\n",
      "Non-trainable params: 0\n",
      "_________________________________________________________________\n"
     ]
    }
   ],
   "source": [
    "base_model = VGGish(include_top=False, load_weights=True)\n",
    "print('Model loaded.')\n",
    "base_model.summary()"
   ]
  },
  {
   "cell_type": "markdown",
   "metadata": {},
   "source": [
    "# Build top model"
   ]
  },
  {
   "cell_type": "code",
   "execution_count": 7,
   "metadata": {},
   "outputs": [
    {
     "name": "stdout",
     "output_type": "stream",
     "text": [
      "Model: \"sequential\"\n",
      "_________________________________________________________________\n",
      "Layer (type)                 Output Shape              Param #   \n",
      "=================================================================\n",
      "flatten (Flatten)            (None, 512)               0         \n",
      "_________________________________________________________________\n",
      "dense (Dense)                (None, 256)               131328    \n",
      "_________________________________________________________________\n",
      "dropout (Dropout)            (None, 256)               0         \n",
      "_________________________________________________________________\n",
      "dense_1 (Dense)              (None, 128)               32896     \n",
      "_________________________________________________________________\n",
      "dropout_1 (Dropout)          (None, 128)               0         \n",
      "_________________________________________________________________\n",
      "dense_2 (Dense)              (None, 2)                 258       \n",
      "=================================================================\n",
      "Total params: 164,482\n",
      "Trainable params: 164,482\n",
      "Non-trainable params: 0\n",
      "_________________________________________________________________\n"
     ]
    }
   ],
   "source": [
    "# build a classifier model to put on top of the convolutional model\n",
    "from tensorflow.keras import initializers\n",
    "\n",
    "top_model = Sequential()\n",
    "top_model.add(Flatten(input_shape=base_model.output_shape[1:]))\n",
    "top_model.add(Dense(256, activation='relu',kernel_initializer=initializers.RandomNormal(stddev=0.01)))\n",
    "top_model.add(Dropout(0.2))\n",
    "top_model.add(Dense(128, activation='relu',kernel_initializer=initializers.RandomNormal(stddev=0.01)))\n",
    "top_model.add(Dropout(0.2))\n",
    "top_model.add(Dense(2, activation='softmax'))\n",
    "top_model.summary()"
   ]
  },
  {
   "cell_type": "markdown",
   "metadata": {},
   "source": [
    "# Combine base model with top model"
   ]
  },
  {
   "cell_type": "code",
   "execution_count": 8,
   "metadata": {},
   "outputs": [],
   "source": [
    "# top_model.load_weights('bootlneck_fc_model.h5')\n",
    "model = Model(inputs=base_model.input, outputs=top_model(base_model.output))"
   ]
  },
  {
   "cell_type": "markdown",
   "metadata": {},
   "source": [
    "# Configure model training"
   ]
  },
  {
   "cell_type": "code",
   "execution_count": 9,
   "metadata": {},
   "outputs": [],
   "source": [
    "from keras import metrics, optimizers\n",
    "\n",
    "def top_1_accuracy(y_true, y_pred):\n",
    "    return metrics.top_k_categorical_accuracy(y_true, y_pred, k=1)\n",
    "\n",
    "#for layer in model.layers[:num_layers_to_freeze]:\n",
    "#    layer.trainable = False\n",
    "\n",
    "for layers in base_model.layers:\n",
    "    layers.trainable = False\n",
    "\n",
    "# use nesterov accelrated gradient descent ??\n",
    "# optimizer=optimizers.SGD(lr=1e-4, momentum=0.9, decay=1e-6, nesterov=True)\n",
    "\n",
    "#model.compile(optimizer=optimizers.SGD(lr=2e-5, momentum=0.9), \n",
    "#                      loss='categorical_crossentropy', \n",
    "#                      metrics=['accuracy', top_1_accuracy])\n",
    "\n",
    "model.compile(optimizer=optimizers.Adam(), \n",
    "                      loss='categorical_crossentropy', \n",
    "                      metrics=['accuracy', top_1_accuracy])\n",
    "\n",
    "# parallel_model.compile(optimizer=optimizers.SGD(lr=1e-4, momentum=0.9), \n",
    "#                       loss='categorical_crossentropy', \n",
    "#                       metrics=['accuracy', top_1_accuracy])\n",
    "\n",
    "# serialize model to JSON\n",
    "model_json = model.to_json()\n",
    "#model_filename = \"vggish_model_{}_frozen_layers.json\".format(num_layers_to_freeze)\n",
    "model_filename = \"vggish_model_frozen_layers.json\"\n",
    "\n",
    "with open(model_filename, \"w\") as json_file:\n",
    "    json_file.write(model_json)"
   ]
  },
  {
   "cell_type": "code",
   "execution_count": 10,
   "metadata": {},
   "outputs": [
    {
     "name": "stdout",
     "output_type": "stream",
     "text": [
      "Model: \"model\"\n",
      "_________________________________________________________________\n",
      "Layer (type)                 Output Shape              Param #   \n",
      "=================================================================\n",
      "input_1 (InputLayer)         [(None, 128, 128, 1)]     0         \n",
      "_________________________________________________________________\n",
      "conv1 (Conv2D)               (None, 128, 128, 64)      640       \n",
      "_________________________________________________________________\n",
      "pool1 (MaxPooling2D)         (None, 64, 64, 64)        0         \n",
      "_________________________________________________________________\n",
      "conv2 (Conv2D)               (None, 64, 64, 128)       73856     \n",
      "_________________________________________________________________\n",
      "pool2 (MaxPooling2D)         (None, 32, 32, 128)       0         \n",
      "_________________________________________________________________\n",
      "conv3/conv3_1 (Conv2D)       (None, 32, 32, 256)       295168    \n",
      "_________________________________________________________________\n",
      "conv3/conv3_2 (Conv2D)       (None, 32, 32, 256)       590080    \n",
      "_________________________________________________________________\n",
      "pool3 (MaxPooling2D)         (None, 16, 16, 256)       0         \n",
      "_________________________________________________________________\n",
      "conv4/conv4_1 (Conv2D)       (None, 16, 16, 512)       1180160   \n",
      "_________________________________________________________________\n",
      "conv4/conv4_2 (Conv2D)       (None, 16, 16, 512)       2359808   \n",
      "_________________________________________________________________\n",
      "pool4 (MaxPooling2D)         (None, 8, 8, 512)         0         \n",
      "_________________________________________________________________\n",
      "global_max_pooling2d (Global (None, 512)               0         \n",
      "_________________________________________________________________\n",
      "sequential (Sequential)      (None, 2)                 164482    \n",
      "=================================================================\n",
      "Total params: 4,664,194\n",
      "Trainable params: 164,482\n",
      "Non-trainable params: 4,499,712\n",
      "_________________________________________________________________\n"
     ]
    }
   ],
   "source": [
    "model.summary()"
   ]
  },
  {
   "cell_type": "markdown",
   "metadata": {},
   "source": [
    "# Fine-tune the model"
   ]
  },
  {
   "cell_type": "code",
   "execution_count": 11,
   "metadata": {},
   "outputs": [],
   "source": [
    "#for layers in base_model.layers:\n",
    "#    print(layers)"
   ]
  },
  {
   "cell_type": "code",
   "execution_count": 12,
   "metadata": {
    "scrolled": false
   },
   "outputs": [
    {
     "name": "stdout",
     "output_type": "stream",
     "text": [
      "WARNING:tensorflow:From <ipython-input-12-37bc4c1e38ad>:27: Model.fit_generator (from tensorflow.python.keras.engine.training) is deprecated and will be removed in a future version.\n",
      "Instructions for updating:\n",
      "Please use Model.fit, which supports generators.\n",
      "Epoch 1/50\n",
      "30/29 [===============================] - ETA: -2s - loss: 0.6592 - accuracy: 0.6103 - top_1_accuracy: 0.6103WARNING:tensorflow:Can save best model only with val_acc available, skipping.\n",
      "30/29 [===============================] - 105s 4s/step - loss: 0.6592 - accuracy: 0.6103 - top_1_accuracy: 0.6103 - val_loss: 0.6248 - val_accuracy: 0.6169 - val_top_1_accuracy: 0.6169\n",
      "Epoch 2/50\n",
      "30/29 [===============================] - ETA: -2s - loss: 0.6069 - accuracy: 0.6531 - top_1_accuracy: 0.6531WARNING:tensorflow:Can save best model only with val_acc available, skipping.\n",
      "30/29 [===============================] - 103s 3s/step - loss: 0.6069 - accuracy: 0.6531 - top_1_accuracy: 0.6531 - val_loss: 0.5673 - val_accuracy: 0.7022 - val_top_1_accuracy: 0.7022\n",
      "Epoch 3/50\n",
      "30/29 [===============================] - ETA: -2s - loss: 0.5685 - accuracy: 0.6940 - top_1_accuracy: 0.6940WARNING:tensorflow:Can save best model only with val_acc available, skipping.\n",
      "30/29 [===============================] - 105s 3s/step - loss: 0.5685 - accuracy: 0.6940 - top_1_accuracy: 0.6940 - val_loss: 0.5566 - val_accuracy: 0.6924 - val_top_1_accuracy: 0.6924\n",
      "Epoch 4/50\n",
      "30/29 [===============================] - ETA: -2s - loss: 0.5701 - accuracy: 0.6967 - top_1_accuracy: 0.6967WARNING:tensorflow:Can save best model only with val_acc available, skipping.\n",
      "30/29 [===============================] - 106s 4s/step - loss: 0.5701 - accuracy: 0.6967 - top_1_accuracy: 0.6967 - val_loss: 0.5919 - val_accuracy: 0.6579 - val_top_1_accuracy: 0.6579\n",
      "Epoch 5/50\n",
      "30/29 [===============================] - ETA: -2s - loss: 0.5549 - accuracy: 0.7034 - top_1_accuracy: 0.7034WARNING:tensorflow:Can save best model only with val_acc available, skipping.\n",
      "30/29 [===============================] - 105s 4s/step - loss: 0.5549 - accuracy: 0.7034 - top_1_accuracy: 0.7034 - val_loss: 0.5494 - val_accuracy: 0.7153 - val_top_1_accuracy: 0.7153\n",
      "Epoch 6/50\n",
      "30/29 [===============================] - ETA: -2s - loss: 0.5571 - accuracy: 0.7078 - top_1_accuracy: 0.7078WARNING:tensorflow:Can save best model only with val_acc available, skipping.\n",
      "30/29 [===============================] - 105s 3s/step - loss: 0.5571 - accuracy: 0.7078 - top_1_accuracy: 0.7078 - val_loss: 0.5350 - val_accuracy: 0.7227 - val_top_1_accuracy: 0.7227\n",
      "Epoch 7/50\n",
      "30/29 [===============================] - ETA: -2s - loss: 0.5406 - accuracy: 0.7209 - top_1_accuracy: 0.7209WARNING:tensorflow:Can save best model only with val_acc available, skipping.\n",
      "30/29 [===============================] - 104s 3s/step - loss: 0.5406 - accuracy: 0.7209 - top_1_accuracy: 0.7209 - val_loss: 0.5308 - val_accuracy: 0.7211 - val_top_1_accuracy: 0.7211\n",
      "Epoch 8/50\n",
      "30/29 [===============================] - ETA: -2s - loss: 0.5407 - accuracy: 0.7193 - top_1_accuracy: 0.7193WARNING:tensorflow:Can save best model only with val_acc available, skipping.\n",
      "30/29 [===============================] - 104s 3s/step - loss: 0.5407 - accuracy: 0.7193 - top_1_accuracy: 0.7193 - val_loss: 0.5477 - val_accuracy: 0.7178 - val_top_1_accuracy: 0.7178\n",
      "Epoch 9/50\n",
      "30/29 [===============================] - ETA: -2s - loss: 0.5312 - accuracy: 0.7231 - top_1_accuracy: 0.7231WARNING:tensorflow:Can save best model only with val_acc available, skipping.\n",
      "30/29 [===============================] - 103s 3s/step - loss: 0.5312 - accuracy: 0.7231 - top_1_accuracy: 0.7231 - val_loss: 0.5226 - val_accuracy: 0.7244 - val_top_1_accuracy: 0.7244\n",
      "Epoch 10/50\n",
      "30/29 [===============================] - ETA: -2s - loss: 0.5438 - accuracy: 0.7094 - top_1_accuracy: 0.7094WARNING:tensorflow:Can save best model only with val_acc available, skipping.\n",
      "30/29 [===============================] - 104s 3s/step - loss: 0.5438 - accuracy: 0.7094 - top_1_accuracy: 0.7094 - val_loss: 0.5249 - val_accuracy: 0.7276 - val_top_1_accuracy: 0.7276\n",
      "Epoch 11/50\n",
      "30/29 [===============================] - ETA: -2s - loss: 0.5314 - accuracy: 0.7244 - top_1_accuracy: 0.7244WARNING:tensorflow:Can save best model only with val_acc available, skipping.\n",
      "30/29 [===============================] - 103s 3s/step - loss: 0.5314 - accuracy: 0.7244 - top_1_accuracy: 0.7244 - val_loss: 0.5272 - val_accuracy: 0.7235 - val_top_1_accuracy: 0.7235\n",
      "Epoch 12/50\n",
      "30/29 [===============================] - ETA: -2s - loss: 0.5392 - accuracy: 0.7115 - top_1_accuracy: 0.7115WARNING:tensorflow:Can save best model only with val_acc available, skipping.\n",
      "30/29 [===============================] - 104s 3s/step - loss: 0.5392 - accuracy: 0.7115 - top_1_accuracy: 0.7115 - val_loss: 0.5314 - val_accuracy: 0.7219 - val_top_1_accuracy: 0.7219\n",
      "Epoch 13/50\n",
      "30/29 [===============================] - ETA: -2s - loss: 0.5230 - accuracy: 0.7336 - top_1_accuracy: 0.7336WARNING:tensorflow:Can save best model only with val_acc available, skipping.\n",
      "30/29 [===============================] - 103s 3s/step - loss: 0.5230 - accuracy: 0.7336 - top_1_accuracy: 0.7336 - val_loss: 0.5293 - val_accuracy: 0.7227 - val_top_1_accuracy: 0.7227\n",
      "Epoch 14/50\n",
      "30/29 [===============================] - ETA: -2s - loss: 0.5212 - accuracy: 0.7285 - top_1_accuracy: 0.7285WARNING:tensorflow:Can save best model only with val_acc available, skipping.\n",
      "30/29 [===============================] - 103s 3s/step - loss: 0.5212 - accuracy: 0.7285 - top_1_accuracy: 0.7285 - val_loss: 0.5183 - val_accuracy: 0.7244 - val_top_1_accuracy: 0.7244\n",
      "Epoch 15/50\n",
      "30/29 [===============================] - ETA: -2s - loss: 0.5231 - accuracy: 0.7328 - top_1_accuracy: 0.7328WARNING:tensorflow:Can save best model only with val_acc available, skipping.\n",
      "30/29 [===============================] - 102s 3s/step - loss: 0.5231 - accuracy: 0.7328 - top_1_accuracy: 0.7328 - val_loss: 0.5161 - val_accuracy: 0.7227 - val_top_1_accuracy: 0.7227\n",
      "Epoch 16/50\n",
      "30/29 [===============================] - ETA: -2s - loss: 0.5147 - accuracy: 0.7355 - top_1_accuracy: 0.7355WARNING:tensorflow:Can save best model only with val_acc available, skipping.\n",
      "30/29 [===============================] - 103s 3s/step - loss: 0.5147 - accuracy: 0.7355 - top_1_accuracy: 0.7355 - val_loss: 0.5276 - val_accuracy: 0.7260 - val_top_1_accuracy: 0.7260\n",
      "Epoch 17/50\n",
      "30/29 [===============================] - ETA: -2s - loss: 0.5155 - accuracy: 0.7250 - top_1_accuracy: 0.7250WARNING:tensorflow:Can save best model only with val_acc available, skipping.\n",
      "30/29 [===============================] - 103s 3s/step - loss: 0.5155 - accuracy: 0.7250 - top_1_accuracy: 0.7250 - val_loss: 0.5090 - val_accuracy: 0.7334 - val_top_1_accuracy: 0.7334\n",
      "Epoch 18/50\n",
      "30/29 [===============================] - ETA: -2s - loss: 0.5133 - accuracy: 0.7322 - top_1_accuracy: 0.7322WARNING:tensorflow:Can save best model only with val_acc available, skipping.\n",
      "30/29 [===============================] - 103s 3s/step - loss: 0.5133 - accuracy: 0.7322 - top_1_accuracy: 0.7322 - val_loss: 0.5076 - val_accuracy: 0.7358 - val_top_1_accuracy: 0.7358\n",
      "Epoch 19/50\n",
      "30/29 [===============================] - ETA: -2s - loss: 0.5097 - accuracy: 0.7363 - top_1_accuracy: 0.7363WARNING:tensorflow:Can save best model only with val_acc available, skipping.\n",
      "30/29 [===============================] - 103s 3s/step - loss: 0.5097 - accuracy: 0.7363 - top_1_accuracy: 0.7363 - val_loss: 0.5078 - val_accuracy: 0.7326 - val_top_1_accuracy: 0.7326\n",
      "Epoch 20/50\n",
      "30/29 [===============================] - ETA: -2s - loss: 0.5203 - accuracy: 0.7263 - top_1_accuracy: 0.7263WARNING:tensorflow:Can save best model only with val_acc available, skipping.\n",
      "30/29 [===============================] - 103s 3s/step - loss: 0.5203 - accuracy: 0.7263 - top_1_accuracy: 0.7263 - val_loss: 0.5072 - val_accuracy: 0.7309 - val_top_1_accuracy: 0.7309\n",
      "Epoch 21/50\n",
      "30/29 [===============================] - ETA: -2s - loss: 0.5056 - accuracy: 0.7374 - top_1_accuracy: 0.7374WARNING:tensorflow:Can save best model only with val_acc available, skipping.\n",
      "30/29 [===============================] - 103s 3s/step - loss: 0.5056 - accuracy: 0.7374 - top_1_accuracy: 0.7374 - val_loss: 0.5109 - val_accuracy: 0.7317 - val_top_1_accuracy: 0.7317\n"
     ]
    },
    {
     "name": "stdout",
     "output_type": "stream",
     "text": [
      "Epoch 22/50\n",
      "30/29 [===============================] - ETA: -2s - loss: 0.5086 - accuracy: 0.7398 - top_1_accuracy: 0.7398WARNING:tensorflow:Can save best model only with val_acc available, skipping.\n",
      "30/29 [===============================] - 103s 3s/step - loss: 0.5086 - accuracy: 0.7398 - top_1_accuracy: 0.7398 - val_loss: 0.5167 - val_accuracy: 0.7276 - val_top_1_accuracy: 0.7276\n",
      "Epoch 23/50\n",
      "30/29 [===============================] - ETA: -2s - loss: 0.5087 - accuracy: 0.7417 - top_1_accuracy: 0.7417WARNING:tensorflow:Can save best model only with val_acc available, skipping.\n",
      "30/29 [===============================] - 104s 3s/step - loss: 0.5087 - accuracy: 0.7417 - top_1_accuracy: 0.7417 - val_loss: 0.5073 - val_accuracy: 0.7334 - val_top_1_accuracy: 0.7334\n",
      "Epoch 24/50\n",
      "30/29 [===============================] - ETA: -2s - loss: 0.5058 - accuracy: 0.7384 - top_1_accuracy: 0.7384WARNING:tensorflow:Can save best model only with val_acc available, skipping.\n",
      "30/29 [===============================] - 104s 3s/step - loss: 0.5058 - accuracy: 0.7384 - top_1_accuracy: 0.7384 - val_loss: 0.5105 - val_accuracy: 0.7301 - val_top_1_accuracy: 0.7301\n",
      "Epoch 25/50\n",
      "30/29 [===============================] - ETA: -2s - loss: 0.5039 - accuracy: 0.7398 - top_1_accuracy: 0.7398WARNING:tensorflow:Can save best model only with val_acc available, skipping.\n",
      "30/29 [===============================] - 104s 3s/step - loss: 0.5039 - accuracy: 0.7398 - top_1_accuracy: 0.7398 - val_loss: 0.5053 - val_accuracy: 0.7252 - val_top_1_accuracy: 0.7252\n",
      "Epoch 26/50\n",
      "30/29 [===============================] - ETA: -2s - loss: 0.5058 - accuracy: 0.7446 - top_1_accuracy: 0.7446WARNING:tensorflow:Can save best model only with val_acc available, skipping.\n",
      "30/29 [===============================] - 105s 3s/step - loss: 0.5058 - accuracy: 0.7446 - top_1_accuracy: 0.7446 - val_loss: 0.5111 - val_accuracy: 0.7334 - val_top_1_accuracy: 0.7334\n",
      "Epoch 27/50\n",
      "30/29 [===============================] - ETA: -2s - loss: 0.5074 - accuracy: 0.7357 - top_1_accuracy: 0.7357WARNING:tensorflow:Can save best model only with val_acc available, skipping.\n",
      "30/29 [===============================] - 107s 4s/step - loss: 0.5074 - accuracy: 0.7357 - top_1_accuracy: 0.7357 - val_loss: 0.5106 - val_accuracy: 0.7309 - val_top_1_accuracy: 0.7309\n",
      "Epoch 28/50\n",
      "30/29 [===============================] - ETA: -2s - loss: 0.5075 - accuracy: 0.7387 - top_1_accuracy: 0.7387WARNING:tensorflow:Can save best model only with val_acc available, skipping.\n",
      "30/29 [===============================] - 106s 4s/step - loss: 0.5075 - accuracy: 0.7387 - top_1_accuracy: 0.7387 - val_loss: 0.5025 - val_accuracy: 0.7276 - val_top_1_accuracy: 0.7276\n",
      "Epoch 29/50\n",
      "30/29 [===============================] - ETA: -2s - loss: 0.5075 - accuracy: 0.7417 - top_1_accuracy: 0.7417WARNING:tensorflow:Can save best model only with val_acc available, skipping.\n",
      "30/29 [===============================] - 106s 4s/step - loss: 0.5075 - accuracy: 0.7417 - top_1_accuracy: 0.7417 - val_loss: 0.5123 - val_accuracy: 0.7383 - val_top_1_accuracy: 0.7383\n",
      "Epoch 30/50\n",
      "30/29 [===============================] - ETA: -2s - loss: 0.5210 - accuracy: 0.7312 - top_1_accuracy: 0.7312WARNING:tensorflow:Can save best model only with val_acc available, skipping.\n",
      "30/29 [===============================] - 107s 4s/step - loss: 0.5210 - accuracy: 0.7312 - top_1_accuracy: 0.7312 - val_loss: 0.5123 - val_accuracy: 0.7334 - val_top_1_accuracy: 0.7334\n",
      "Epoch 31/50\n",
      "30/29 [===============================] - ETA: -2s - loss: 0.5033 - accuracy: 0.7433 - top_1_accuracy: 0.7433WARNING:tensorflow:Can save best model only with val_acc available, skipping.\n",
      "30/29 [===============================] - 107s 4s/step - loss: 0.5033 - accuracy: 0.7433 - top_1_accuracy: 0.7433 - val_loss: 0.5010 - val_accuracy: 0.7276 - val_top_1_accuracy: 0.7276\n",
      "Epoch 32/50\n",
      "30/29 [===============================] - ETA: -2s - loss: 0.5243 - accuracy: 0.7182 - top_1_accuracy: 0.7182WARNING:tensorflow:Can save best model only with val_acc available, skipping.\n",
      "30/29 [===============================] - 108s 4s/step - loss: 0.5243 - accuracy: 0.7182 - top_1_accuracy: 0.7182 - val_loss: 0.5663 - val_accuracy: 0.6743 - val_top_1_accuracy: 0.6743\n",
      "Epoch 33/50\n",
      "30/29 [===============================] - ETA: -2s - loss: 0.5091 - accuracy: 0.7374 - top_1_accuracy: 0.7374WARNING:tensorflow:Can save best model only with val_acc available, skipping.\n",
      "30/29 [===============================] - 108s 4s/step - loss: 0.5091 - accuracy: 0.7374 - top_1_accuracy: 0.7374 - val_loss: 0.5006 - val_accuracy: 0.7334 - val_top_1_accuracy: 0.7334\n",
      "Epoch 34/50\n",
      "30/29 [===============================] - ETA: -2s - loss: 0.5036 - accuracy: 0.7295 - top_1_accuracy: 0.7295WARNING:tensorflow:Can save best model only with val_acc available, skipping.\n",
      "30/29 [===============================] - 108s 4s/step - loss: 0.5036 - accuracy: 0.7295 - top_1_accuracy: 0.7295 - val_loss: 0.5182 - val_accuracy: 0.7227 - val_top_1_accuracy: 0.7227\n",
      "Epoch 35/50\n",
      "30/29 [===============================] - ETA: -2s - loss: 0.5042 - accuracy: 0.7360 - top_1_accuracy: 0.7360WARNING:tensorflow:Can save best model only with val_acc available, skipping.\n",
      "30/29 [===============================] - 107s 4s/step - loss: 0.5042 - accuracy: 0.7360 - top_1_accuracy: 0.7360 - val_loss: 0.6233 - val_accuracy: 0.6464 - val_top_1_accuracy: 0.6464\n",
      "Epoch 36/50\n",
      "30/29 [===============================] - ETA: -2s - loss: 0.5260 - accuracy: 0.7217 - top_1_accuracy: 0.7217WARNING:tensorflow:Can save best model only with val_acc available, skipping.\n",
      "30/29 [===============================] - 107s 4s/step - loss: 0.5260 - accuracy: 0.7217 - top_1_accuracy: 0.7217 - val_loss: 0.5155 - val_accuracy: 0.7358 - val_top_1_accuracy: 0.7358\n",
      "Epoch 37/50\n",
      "30/29 [===============================] - ETA: -2s - loss: 0.5050 - accuracy: 0.7495 - top_1_accuracy: 0.7495WARNING:tensorflow:Can save best model only with val_acc available, skipping.\n",
      "30/29 [===============================] - 107s 4s/step - loss: 0.5050 - accuracy: 0.7495 - top_1_accuracy: 0.7495 - val_loss: 0.5081 - val_accuracy: 0.7293 - val_top_1_accuracy: 0.7293\n",
      "Epoch 38/50\n",
      "30/29 [===============================] - ETA: -2s - loss: 0.4999 - accuracy: 0.7422 - top_1_accuracy: 0.7422WARNING:tensorflow:Can save best model only with val_acc available, skipping.\n",
      "30/29 [===============================] - 107s 4s/step - loss: 0.4999 - accuracy: 0.7422 - top_1_accuracy: 0.7422 - val_loss: 0.5050 - val_accuracy: 0.7383 - val_top_1_accuracy: 0.7383\n",
      "Epoch 39/50\n",
      "30/29 [===============================] - ETA: -2s - loss: 0.4939 - accuracy: 0.7473 - top_1_accuracy: 0.7473WARNING:tensorflow:Can save best model only with val_acc available, skipping.\n",
      "30/29 [===============================] - 107s 4s/step - loss: 0.4939 - accuracy: 0.7473 - top_1_accuracy: 0.7473 - val_loss: 0.5012 - val_accuracy: 0.7276 - val_top_1_accuracy: 0.7276\n",
      "Epoch 40/50\n",
      "30/29 [===============================] - ETA: -2s - loss: 0.5063 - accuracy: 0.7333 - top_1_accuracy: 0.7333WARNING:tensorflow:Can save best model only with val_acc available, skipping.\n",
      "30/29 [===============================] - 107s 4s/step - loss: 0.5063 - accuracy: 0.7333 - top_1_accuracy: 0.7333 - val_loss: 0.5350 - val_accuracy: 0.7227 - val_top_1_accuracy: 0.7227\n",
      "Epoch 41/50\n",
      "30/29 [===============================] - ETA: -2s - loss: 0.5043 - accuracy: 0.7365 - top_1_accuracy: 0.7365WARNING:tensorflow:Can save best model only with val_acc available, skipping.\n",
      "30/29 [===============================] - 107s 4s/step - loss: 0.5043 - accuracy: 0.7365 - top_1_accuracy: 0.7365 - val_loss: 0.4993 - val_accuracy: 0.7383 - val_top_1_accuracy: 0.7383\n",
      "Epoch 42/50\n",
      "30/29 [===============================] - ETA: -2s - loss: 0.4916 - accuracy: 0.7465 - top_1_accuracy: 0.7465WARNING:tensorflow:Can save best model only with val_acc available, skipping.\n",
      "30/29 [===============================] - 107s 4s/step - loss: 0.4916 - accuracy: 0.7465 - top_1_accuracy: 0.7465 - val_loss: 0.4999 - val_accuracy: 0.7391 - val_top_1_accuracy: 0.7391\n",
      "Epoch 43/50\n",
      "30/29 [===============================] - ETA: -2s - loss: 0.4998 - accuracy: 0.7403 - top_1_accuracy: 0.7403WARNING:tensorflow:Can save best model only with val_acc available, skipping.\n"
     ]
    },
    {
     "name": "stdout",
     "output_type": "stream",
     "text": [
      "30/29 [===============================] - 107s 4s/step - loss: 0.4998 - accuracy: 0.7403 - top_1_accuracy: 0.7403 - val_loss: 0.5036 - val_accuracy: 0.7408 - val_top_1_accuracy: 0.7408\n",
      "Epoch 44/50\n",
      "30/29 [===============================] - ETA: -2s - loss: 0.4939 - accuracy: 0.7497 - top_1_accuracy: 0.7497WARNING:tensorflow:Can save best model only with val_acc available, skipping.\n",
      "30/29 [===============================] - 107s 4s/step - loss: 0.4939 - accuracy: 0.7497 - top_1_accuracy: 0.7497 - val_loss: 0.5143 - val_accuracy: 0.7375 - val_top_1_accuracy: 0.7375\n",
      "Epoch 45/50\n",
      "30/29 [===============================] - ETA: -2s - loss: 0.4939 - accuracy: 0.7425 - top_1_accuracy: 0.7425WARNING:tensorflow:Can save best model only with val_acc available, skipping.\n",
      "30/29 [===============================] - 107s 4s/step - loss: 0.4939 - accuracy: 0.7425 - top_1_accuracy: 0.7425 - val_loss: 0.5013 - val_accuracy: 0.7391 - val_top_1_accuracy: 0.7391\n",
      "Epoch 46/50\n",
      "30/29 [===============================] - ETA: -2s - loss: 0.4890 - accuracy: 0.7527 - top_1_accuracy: 0.7527WARNING:tensorflow:Can save best model only with val_acc available, skipping.\n",
      "30/29 [===============================] - 106s 4s/step - loss: 0.4890 - accuracy: 0.7527 - top_1_accuracy: 0.7527 - val_loss: 0.4972 - val_accuracy: 0.7358 - val_top_1_accuracy: 0.7358\n",
      "Epoch 47/50\n",
      "30/29 [===============================] - ETA: -2s - loss: 0.4869 - accuracy: 0.7554 - top_1_accuracy: 0.7554WARNING:tensorflow:Can save best model only with val_acc available, skipping.\n",
      "30/29 [===============================] - 114s 4s/step - loss: 0.4869 - accuracy: 0.7554 - top_1_accuracy: 0.7554 - val_loss: 0.5155 - val_accuracy: 0.7367 - val_top_1_accuracy: 0.7367\n",
      "Epoch 48/50\n",
      "30/29 [===============================] - ETA: -4s - loss: 0.4918 - accuracy: 0.7500 - top_1_accuracy: 0.7500WARNING:tensorflow:Can save best model only with val_acc available, skipping.\n",
      "30/29 [===============================] - 180s 6s/step - loss: 0.4918 - accuracy: 0.7500 - top_1_accuracy: 0.7500 - val_loss: 0.4993 - val_accuracy: 0.7416 - val_top_1_accuracy: 0.7416\n",
      "Epoch 49/50\n",
      "30/29 [===============================] - ETA: -4s - loss: 0.4910 - accuracy: 0.7468 - top_1_accuracy: 0.7468WARNING:tensorflow:Can save best model only with val_acc available, skipping.\n",
      "30/29 [===============================] - 195s 7s/step - loss: 0.4910 - accuracy: 0.7468 - top_1_accuracy: 0.7468 - val_loss: 0.4965 - val_accuracy: 0.7424 - val_top_1_accuracy: 0.7424\n",
      "Epoch 50/50\n",
      "30/29 [===============================] - ETA: -4s - loss: 0.5104 - accuracy: 0.7379 - top_1_accuracy: 0.7379WARNING:tensorflow:Can save best model only with val_acc available, skipping.\n",
      "30/29 [===============================] - 195s 7s/step - loss: 0.5104 - accuracy: 0.7379 - top_1_accuracy: 0.7379 - val_loss: 0.5012 - val_accuracy: 0.7424 - val_top_1_accuracy: 0.7424\n"
     ]
    },
    {
     "data": {
      "text/plain": [
       "<tensorflow.python.keras.callbacks.History at 0x7fb8ac38d290>"
      ]
     },
     "execution_count": 12,
     "metadata": {},
     "output_type": "execute_result"
    }
   ],
   "source": [
    "from keras.callbacks import ModelCheckpoint, TensorBoard\n",
    "from time import time\n",
    "from plot_keras_history import plot_history\n",
    "\n",
    "#tensorboard = TensorBoard(log_dir=\"logs/layers_frozen_{}\".format(num_layers_to_freeze))\n",
    "tensorboard = TensorBoard(log_dir=\"logs/layers_frozen\")\n",
    "\n",
    "# checkpoint\n",
    "filepath=\"osf_vggish_weights_train_last_layers.best.hdf5\"\n",
    "best_model_checkpoint = ModelCheckpoint(filepath, monitor='val_acc', verbose=1, save_best_only=True, mode='max')\n",
    "callbacks_list = [best_model_checkpoint, tensorboard]\n",
    "\n",
    "# parallel_model.fit_generator(\n",
    "#     training_generator,\n",
    "#     steps_per_epoch=nb_training_samples/batch_size,\n",
    "#     epochs=epochs,\n",
    "#     validation_data=validation_generator,\n",
    "#     validation_steps=nb_validation_samples/batch_size,\n",
    "#     callbacks=callbacks_list)\n",
    "\n",
    "model.fit_generator(\n",
    "    training_generator,\n",
    "    steps_per_epoch=nb_training_samples/batch_size,\n",
    "    epochs=epochs,\n",
    "    validation_data=validation_generator,\n",
    "    validation_steps=nb_validation_samples/batch_size,\n",
    "    callbacks=callbacks_list)\n",
    "# parallel_model.fit_generator(\n",
    "#     training_generator,\n",
    "#     samples_per_epoch=nb_training_samples,\n",
    "#     epochs=epochs,\n",
    "#     validation_data=validation_generator,\n",
    "#     validation_steps=nb_validation_samples/batch_size,)\n",
    "#     nb_val_samples=nb_validation_samples)\n"
   ]
  },
  {
   "cell_type": "markdown",
   "metadata": {},
   "source": [
    "# Get top k predictions for selected test files"
   ]
  },
  {
   "cell_type": "code",
   "execution_count": 13,
   "metadata": {},
   "outputs": [],
   "source": [
    "def get_top_k_predictions(preds, label_map, k=1, print_flag=False):\n",
    "    sorted_array = np.argsort(preds)[::-1]\n",
    "    top_k = sorted_array[:k]\n",
    "    label_map_flip = dict((v,k) for k,v in label_map.items())\n",
    "    \n",
    "    y_pred = []\n",
    "    for label_index in top_k:\n",
    "        if print_flag:\n",
    "            print (\"{} ({})\".format(label_map_flip[label_index], preds[label_index]))\n",
    "        y_pred.append(label_map_flip[label_index])\n",
    "        \n",
    "    return y_pred"
   ]
  },
  {
   "cell_type": "code",
   "execution_count": 14,
   "metadata": {},
   "outputs": [
    {
     "data": {
      "text/plain": [
       "['sick']"
      ]
     },
     "execution_count": 14,
     "metadata": {},
     "output_type": "execute_result"
    }
   ],
   "source": [
    "label_map = (training_generator.class_indices)\n",
    " \n",
    "json2 = json.dumps(label_map)\n",
    "f = open(\"cough_label_map.json\",\"w\")\n",
    "f.write(json2)\n",
    "f.close()\n",
    "\n",
    "img_path = '/Users/xt/Desktop/OSF/melspectrograms/test/sick/audioset__3RvCwwIZ4w_10_15.png'\n",
    "img = image.load_img(img_path, target_size=(128,128), color_mode=\"grayscale\")\n",
    "#x = image.random_rotation(image.img_to_array(img), rg = 90)\n",
    "x = image.img_to_array(img)\n",
    "\n",
    "x = np.expand_dims(x, axis=0)* 1./255\n",
    "\n",
    "preds = model.predict(x)[0]\n",
    "\n",
    "get_top_k_predictions(preds, label_map, k=1)"
   ]
  },
  {
   "cell_type": "code",
   "execution_count": 15,
   "metadata": {},
   "outputs": [
    {
     "data": {
      "image/png": "[encoded data removed]",
      "text/plain": [
       "<PIL.Image.Image image mode=L size=128x128 at 0x7FB6AAEE4C90>"
      ]
     },
     "execution_count": 15,
     "metadata": {},
     "output_type": "execute_result"
    }
   ],
   "source": [
    "img"
   ]
  },
  {
   "cell_type": "markdown",
   "metadata": {},
   "source": [
    "# Calculate and plot confusion matrix"
   ]
  },
  {
   "cell_type": "code",
   "execution_count": 16,
   "metadata": {},
   "outputs": [],
   "source": [
    "import itertools\n",
    "import matplotlib.pyplot as plt\n",
    "def plot_confusion_matrix(cm, classes,\n",
    "                          normalize=False,\n",
    "                          title='Confusion matrix',\n",
    "                          cmap=plt.cm.Blues):\n",
    "    \"\"\"\n",
    "    This function prints and plots the confusion matrix.\n",
    "    Normalization can be applied by setting `normalize=True`.\n",
    "    \"\"\"\n",
    "    if normalize:\n",
    "        cm = cm.astype('float') / cm.sum(axis=1)[:, np.newaxis]\n",
    "        print(\"Normalized confusion matrix\")\n",
    "    else:\n",
    "        print('Confusion matrix, without normalization')\n",
    "\n",
    "#     print(cm)\n",
    "    plt.figure(figsize=(24,24))\n",
    "    plt.imshow(cm, interpolation='nearest', cmap=cmap)\n",
    "    plt.title(title)\n",
    "    plt.colorbar()\n",
    "    tick_marks = np.arange(len(classes))\n",
    "    plt.xticks(tick_marks, classes, rotation=90)\n",
    "    plt.yticks(tick_marks, classes)\n",
    "\n",
    "    fmt = '.2f' if normalize else 'd'\n",
    "    thresh = cm.max() / 2.\n",
    "    for i, j in itertools.product(range(cm.shape[0]), range(cm.shape[1])):\n",
    "        plt.text(j, i, format(cm[i, j], fmt),\n",
    "                 horizontalalignment=\"center\",\n",
    "                 color=\"white\" if cm[i, j] > thresh else \"black\")\n",
    "\n",
    "    plt.tight_layout()\n",
    "    plt.ylabel('True label')\n",
    "    plt.xlabel('Predicted label')\n",
    "    "
   ]
  },
  {
   "cell_type": "code",
   "execution_count": 17,
   "metadata": {},
   "outputs": [
    {
     "name": "stdout",
     "output_type": "stream",
     "text": [
      "Normalized confusion matrix\n"
     ]
    },
    {
     "data": {
      "image/png": "[encoded data removed]",
      "text/plain": [
       "<Figure size 1728x1728 with 2 Axes>"
      ]
     },
     "metadata": {
      "needs_background": "light"
     },
     "output_type": "display_data"
    }
   ],
   "source": [
    "import os\n",
    "import io\n",
    "import requests\n",
    "import urllib.request\n",
    "from PIL import Image\n",
    "from keras.preprocessing import image\n",
    "from sklearn.metrics import confusion_matrix\n",
    "\n",
    "testing_dir = '/Users/xt/Desktop/OSF/melspectrograms/test/'\n",
    "\n",
    "y_true = []\n",
    "y_pred = []\n",
    "for label in label_map.keys():\n",
    "    file_list = os.listdir(testing_dir + label)\n",
    "    for file_name in file_list:\n",
    "        if file_name != '.DS_Store':\n",
    "            img_path = testing_dir + label + '/' + file_name\n",
    "            img = image.load_img(img_path, target_size=(128,128), color_mode=\"grayscale\")\n",
    "            \n",
    "            x = image.img_to_array(img)\n",
    "            #x = image.random_rotation(image.img_to_array(img), rg = 90)\n",
    "            x = np.expand_dims(x, axis=0)* 1./255\n",
    "    \n",
    "            preds = model.predict(x)[0]\n",
    "            \n",
    "            y_true.append(label)\n",
    "            y_pred.append(get_top_k_predictions(preds, label_map, k=1)[0])\n",
    "        \n",
    "cm = confusion_matrix(y_true, y_pred)\n",
    "plot_confusion_matrix(cm, sorted(label_map.keys()), normalize=True)"
   ]
  },
  {
   "cell_type": "code",
   "execution_count": null,
   "metadata": {},
   "outputs": [],
   "source": []
  }
 ],
 "metadata": {
  "kernelspec": {
   "display_name": "Python 3",
   "language": "python",
   "name": "python3"
  },
  "language_info": {
   "codemirror_mode": {
    "name": "ipython",
    "version": 3
   },
   "file_extension": ".py",
   "mimetype": "text/x-python",
   "name": "python",
   "nbconvert_exporter": "python",
   "pygments_lexer": "ipython3",
   "version": "3.7.6"
  }
 },
 "nbformat": 4,
 "nbformat_minor": 2
}
