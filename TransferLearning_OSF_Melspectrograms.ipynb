{
 "cells": [
  {
   "cell_type": "markdown",
   "metadata": {},
   "source": [
    "### Audio Event Classifier with Deep Learning\n",
    "\n",
    "Build a CNN sound classifier using melspectograms from OSF data."
   ]
  },
  {
   "cell_type": "code",
   "execution_count": 1,
   "metadata": {},
   "outputs": [],
   "source": [
    "%matplotlib inline\n",
    "from keras.applications.vgg16 import VGG16, preprocess_input\n",
    "from keras.preprocessing import image\n",
    "from keras.models import Sequential, Model\n",
    "from keras.layers import Dense, Dropout, Flatten, Input\n",
    "from keras.applications.vgg16 import preprocess_input\n",
    "from keras.utils import multi_gpu_model\n",
    "import numpy as np\n",
    "import json\n",
    "import PIL"
   ]
  },
  {
   "cell_type": "markdown",
   "metadata": {},
   "source": [
    "# Set parameter values"
   ]
  },
  {
   "cell_type": "code",
   "execution_count": 2,
   "metadata": {},
   "outputs": [],
   "source": [
    "batch_size = 40\n",
    "epochs = 50\n",
    "\n",
    "# dimensions of our images.\n",
    "img_width, img_height = 224, 224\n",
    "\n",
    "input_tensor = Input(shape=(224,224,3))\n",
    "\n",
    "nb_training_samples = 3716\n",
    "nb_validation_samples = 1219# Set parameter values"
   ]
  },
  {
   "cell_type": "markdown",
   "metadata": {},
   "source": [
    "# Configure training and validation data generators\n",
    "\n",
    "Provide paths to training and testing set directores"
   ]
  },
  {
   "cell_type": "code",
   "execution_count": 3,
   "metadata": {},
   "outputs": [
    {
     "name": "stdout",
     "output_type": "stream",
     "text": [
      "Found 3716 images belonging to 2 classes.\n",
      "Found 1219 images belonging to 2 classes.\n"
     ]
    }
   ],
   "source": [
    "# training generator configuration\n",
    "training_data_dir = '/Users/xt/Desktop/OSF/melspectrograms/train/'\n",
    "\n",
    "training_datagen = image.ImageDataGenerator(\n",
    "    rescale=1./255)\n",
    "\n",
    "training_generator = training_datagen.flow_from_directory(\n",
    "    training_data_dir,\n",
    "    target_size=(img_height, img_width),\n",
    "    batch_size=batch_size)\n",
    "\n",
    "# validation generator configuration\n",
    "validation_data_dir ='/Users/xt/Desktop/OSF/melspectrograms/validation/'\n",
    "\n",
    "validation_datagen = image.ImageDataGenerator(\n",
    "    rescale=1./255)\n",
    "\n",
    "validation_generator = validation_datagen.flow_from_directory(\n",
    "    validation_data_dir,\n",
    "    target_size=(img_height, img_width),\n",
    "    batch_size=batch_size)"
   ]
  },
  {
   "cell_type": "markdown",
   "metadata": {},
   "source": [
    "# Load base model"
   ]
  },
  {
   "cell_type": "code",
   "execution_count": 4,
   "metadata": {},
   "outputs": [
    {
     "name": "stdout",
     "output_type": "stream",
     "text": [
      "Model loaded.\n",
      "Model: \"vgg16\"\n",
      "_________________________________________________________________\n",
      "Layer (type)                 Output Shape              Param #   \n",
      "=================================================================\n",
      "input_1 (InputLayer)         [(None, 224, 224, 3)]     0         \n",
      "_________________________________________________________________\n",
      "block1_conv1 (Conv2D)        (None, 224, 224, 64)      1792      \n",
      "_________________________________________________________________\n",
      "block1_conv2 (Conv2D)        (None, 224, 224, 64)      36928     \n",
      "_________________________________________________________________\n",
      "block1_pool (MaxPooling2D)   (None, 112, 112, 64)      0         \n",
      "_________________________________________________________________\n",
      "block2_conv1 (Conv2D)        (None, 112, 112, 128)     73856     \n",
      "_________________________________________________________________\n",
      "block2_conv2 (Conv2D)        (None, 112, 112, 128)     147584    \n",
      "_________________________________________________________________\n",
      "block2_pool (MaxPooling2D)   (None, 56, 56, 128)       0         \n",
      "_________________________________________________________________\n",
      "block3_conv1 (Conv2D)        (None, 56, 56, 256)       295168    \n",
      "_________________________________________________________________\n",
      "block3_conv2 (Conv2D)        (None, 56, 56, 256)       590080    \n",
      "_________________________________________________________________\n",
      "block3_conv3 (Conv2D)        (None, 56, 56, 256)       590080    \n",
      "_________________________________________________________________\n",
      "block3_pool (MaxPooling2D)   (None, 28, 28, 256)       0         \n",
      "_________________________________________________________________\n",
      "block4_conv1 (Conv2D)        (None, 28, 28, 512)       1180160   \n",
      "_________________________________________________________________\n",
      "block4_conv2 (Conv2D)        (None, 28, 28, 512)       2359808   \n",
      "_________________________________________________________________\n",
      "block4_conv3 (Conv2D)        (None, 28, 28, 512)       2359808   \n",
      "_________________________________________________________________\n",
      "block4_pool (MaxPooling2D)   (None, 14, 14, 512)       0         \n",
      "_________________________________________________________________\n",
      "block5_conv1 (Conv2D)        (None, 14, 14, 512)       2359808   \n",
      "_________________________________________________________________\n",
      "block5_conv2 (Conv2D)        (None, 14, 14, 512)       2359808   \n",
      "_________________________________________________________________\n",
      "block5_conv3 (Conv2D)        (None, 14, 14, 512)       2359808   \n",
      "_________________________________________________________________\n",
      "block5_pool (MaxPooling2D)   (None, 7, 7, 512)         0         \n",
      "=================================================================\n",
      "Total params: 14,714,688\n",
      "Trainable params: 14,714,688\n",
      "Non-trainable params: 0\n",
      "_________________________________________________________________\n"
     ]
    }
   ],
   "source": [
    "base_model = VGG16(weights='imagenet', include_top=False, input_tensor=input_tensor)\n",
    "print('Model loaded.')\n",
    "base_model.summary()"
   ]
  },
  {
   "cell_type": "markdown",
   "metadata": {},
   "source": [
    "# Build top model"
   ]
  },
  {
   "cell_type": "code",
   "execution_count": 5,
   "metadata": {},
   "outputs": [
    {
     "name": "stdout",
     "output_type": "stream",
     "text": [
      "Model: \"sequential\"\n",
      "_________________________________________________________________\n",
      "Layer (type)                 Output Shape              Param #   \n",
      "=================================================================\n",
      "flatten (Flatten)            (None, 25088)             0         \n",
      "_________________________________________________________________\n",
      "dense (Dense)                (None, 256)               6422784   \n",
      "_________________________________________________________________\n",
      "dropout (Dropout)            (None, 256)               0         \n",
      "_________________________________________________________________\n",
      "dense_1 (Dense)              (None, 2)                 514       \n",
      "=================================================================\n",
      "Total params: 6,423,298\n",
      "Trainable params: 6,423,298\n",
      "Non-trainable params: 0\n",
      "_________________________________________________________________\n"
     ]
    }
   ],
   "source": [
    "# build a classifier model to put on top of the convolutional model\n",
    "top_model = Sequential()\n",
    "top_model.add(Flatten(input_shape=base_model.output_shape[1:]))\n",
    "top_model.add(Dense(256, activation='relu'))\n",
    "top_model.add(Dropout(0.5))\n",
    "top_model.add(Dense(2, activation='softmax'))\n",
    "top_model.summary()"
   ]
  },
  {
   "cell_type": "markdown",
   "metadata": {},
   "source": [
    "# Combine base model with top model"
   ]
  },
  {
   "cell_type": "code",
   "execution_count": 6,
   "metadata": {},
   "outputs": [
    {
     "name": "stdout",
     "output_type": "stream",
     "text": [
      "Model: \"model\"\n",
      "_________________________________________________________________\n",
      "Layer (type)                 Output Shape              Param #   \n",
      "=================================================================\n",
      "input_1 (InputLayer)         [(None, 224, 224, 3)]     0         \n",
      "_________________________________________________________________\n",
      "block1_conv1 (Conv2D)        (None, 224, 224, 64)      1792      \n",
      "_________________________________________________________________\n",
      "block1_conv2 (Conv2D)        (None, 224, 224, 64)      36928     \n",
      "_________________________________________________________________\n",
      "block1_pool (MaxPooling2D)   (None, 112, 112, 64)      0         \n",
      "_________________________________________________________________\n",
      "block2_conv1 (Conv2D)        (None, 112, 112, 128)     73856     \n",
      "_________________________________________________________________\n",
      "block2_conv2 (Conv2D)        (None, 112, 112, 128)     147584    \n",
      "_________________________________________________________________\n",
      "block2_pool (MaxPooling2D)   (None, 56, 56, 128)       0         \n",
      "_________________________________________________________________\n",
      "block3_conv1 (Conv2D)        (None, 56, 56, 256)       295168    \n",
      "_________________________________________________________________\n",
      "block3_conv2 (Conv2D)        (None, 56, 56, 256)       590080    \n",
      "_________________________________________________________________\n",
      "block3_conv3 (Conv2D)        (None, 56, 56, 256)       590080    \n",
      "_________________________________________________________________\n",
      "block3_pool (MaxPooling2D)   (None, 28, 28, 256)       0         \n",
      "_________________________________________________________________\n",
      "block4_conv1 (Conv2D)        (None, 28, 28, 512)       1180160   \n",
      "_________________________________________________________________\n",
      "block4_conv2 (Conv2D)        (None, 28, 28, 512)       2359808   \n",
      "_________________________________________________________________\n",
      "block4_conv3 (Conv2D)        (None, 28, 28, 512)       2359808   \n",
      "_________________________________________________________________\n",
      "block4_pool (MaxPooling2D)   (None, 14, 14, 512)       0         \n",
      "_________________________________________________________________\n",
      "block5_conv1 (Conv2D)        (None, 14, 14, 512)       2359808   \n",
      "_________________________________________________________________\n",
      "block5_conv2 (Conv2D)        (None, 14, 14, 512)       2359808   \n",
      "_________________________________________________________________\n",
      "block5_conv3 (Conv2D)        (None, 14, 14, 512)       2359808   \n",
      "_________________________________________________________________\n",
      "block5_pool (MaxPooling2D)   (None, 7, 7, 512)         0         \n",
      "_________________________________________________________________\n",
      "sequential (Sequential)      (None, 2)                 6423298   \n",
      "=================================================================\n",
      "Total params: 21,137,986\n",
      "Trainable params: 21,137,986\n",
      "Non-trainable params: 0\n",
      "_________________________________________________________________\n"
     ]
    }
   ],
   "source": [
    "# top_model.load_weights('bootlneck_fc_model.h5')\n",
    "model = Model(inputs=base_model.input, outputs=top_model(base_model.output))\n",
    "model.summary()"
   ]
  },
  {
   "cell_type": "markdown",
   "metadata": {},
   "source": [
    "# Configure model training"
   ]
  },
  {
   "cell_type": "code",
   "execution_count": 7,
   "metadata": {},
   "outputs": [],
   "source": [
    "num_layers_to_freeze = 15"
   ]
  },
  {
   "cell_type": "code",
   "execution_count": 8,
   "metadata": {},
   "outputs": [],
   "source": [
    "from keras import metrics, optimizers\n",
    "\n",
    "def top_1_accuracy(y_true, y_pred):\n",
    "    return metrics.top_k_categorical_accuracy(y_true, y_pred, k=1)\n",
    "\n",
    "for layer in model.layers[:num_layers_to_freeze]:\n",
    "    layer.trainable = False\n",
    "\n",
    "# use nesterov accelrated gradient descent ??\n",
    "# optimizer=optimizers.SGD(lr=1e-4, momentum=0.9, decay=1e-6, nesterov=True)\n",
    "model.compile(optimizer=optimizers.SGD(lr=1e-4, momentum=0.9), \n",
    "                      loss='categorical_crossentropy', \n",
    "                      metrics=['accuracy', top_1_accuracy])\n",
    "\n",
    "# parallel_model.compile(optimizer=optimizers.SGD(lr=1e-4, momentum=0.9), \n",
    "#                       loss='categorical_crossentropy', \n",
    "#                       metrics=['accuracy', top_1_accuracy])\n",
    "\n",
    "# serialize model to JSON\n",
    "model_json = model.to_json()\n",
    "model_filename = \"vgg16_model_{}_frozen_layers.json\".format(num_layers_to_freeze)\n",
    "with open(model_filename, \"w\") as json_file:\n",
    "    json_file.write(model_json)"
   ]
  },
  {
   "cell_type": "markdown",
   "metadata": {},
   "source": [
    "# Fine-tune the model"
   ]
  },
  {
   "cell_type": "code",
   "execution_count": 9,
   "metadata": {
    "scrolled": false
   },
   "outputs": [
    {
     "name": "stdout",
     "output_type": "stream",
     "text": [
      "WARNING:tensorflow:From <ipython-input-9-8e097d1fe831>:25: Model.fit_generator (from tensorflow.python.keras.engine.training) is deprecated and will be removed in a future version.\n",
      "Instructions for updating:\n",
      "Please use Model.fit, which supports generators.\n",
      "Epoch 1/50\n",
      "93/92 [==============================] - ETA: 0s - loss: 0.6407 - accuracy: 0.6445 - top_1_accuracy: 0.6445WARNING:tensorflow:Can save best model only with val_acc available, skipping.\n",
      "93/92 [==============================] - 807s 9s/step - loss: 0.6407 - accuracy: 0.6445 - top_1_accuracy: 0.6445 - val_loss: 0.5458 - val_accuracy: 0.7383 - val_top_1_accuracy: 0.7383\n",
      "Epoch 2/50\n",
      "93/92 [==============================] - ETA: 0s - loss: 0.5538 - accuracy: 0.7010 - top_1_accuracy: 0.7010WARNING:tensorflow:Can save best model only with val_acc available, skipping.\n",
      "93/92 [==============================] - 795s 9s/step - loss: 0.5538 - accuracy: 0.7010 - top_1_accuracy: 0.7010 - val_loss: 0.5025 - val_accuracy: 0.7498 - val_top_1_accuracy: 0.7498\n",
      "Epoch 3/50\n",
      "93/92 [==============================] - ETA: 0s - loss: 0.5201 - accuracy: 0.7330 - top_1_accuracy: 0.7330WARNING:tensorflow:Can save best model only with val_acc available, skipping.\n",
      "93/92 [==============================] - 786s 8s/step - loss: 0.5201 - accuracy: 0.7330 - top_1_accuracy: 0.7330 - val_loss: 0.4698 - val_accuracy: 0.7769 - val_top_1_accuracy: 0.7769\n",
      "Epoch 4/50\n",
      "93/92 [==============================] - ETA: 0s - loss: 0.5071 - accuracy: 0.7419 - top_1_accuracy: 0.7419WARNING:tensorflow:Can save best model only with val_acc available, skipping.\n",
      "93/92 [==============================] - 783s 8s/step - loss: 0.5071 - accuracy: 0.7419 - top_1_accuracy: 0.7419 - val_loss: 0.4646 - val_accuracy: 0.7760 - val_top_1_accuracy: 0.7760\n",
      "Epoch 5/50\n",
      "93/92 [==============================] - ETA: 0s - loss: 0.4872 - accuracy: 0.7489 - top_1_accuracy: 0.7489WARNING:tensorflow:Can save best model only with val_acc available, skipping.\n",
      "93/92 [==============================] - 783s 8s/step - loss: 0.4872 - accuracy: 0.7489 - top_1_accuracy: 0.7489 - val_loss: 0.4384 - val_accuracy: 0.8007 - val_top_1_accuracy: 0.8007\n",
      "Epoch 6/50\n",
      "93/92 [==============================] - ETA: 0s - loss: 0.4761 - accuracy: 0.7597 - top_1_accuracy: 0.7597WARNING:tensorflow:Can save best model only with val_acc available, skipping.\n",
      "93/92 [==============================] - 781s 8s/step - loss: 0.4761 - accuracy: 0.7597 - top_1_accuracy: 0.7597 - val_loss: 0.4261 - val_accuracy: 0.8089 - val_top_1_accuracy: 0.8089\n",
      "Epoch 7/50\n",
      "93/92 [==============================] - ETA: 0s - loss: 0.4609 - accuracy: 0.7721 - top_1_accuracy: 0.7721WARNING:tensorflow:Can save best model only with val_acc available, skipping.\n",
      "93/92 [==============================] - 780s 8s/step - loss: 0.4609 - accuracy: 0.7721 - top_1_accuracy: 0.7721 - val_loss: 0.4415 - val_accuracy: 0.7785 - val_top_1_accuracy: 0.7785\n",
      "Epoch 8/50\n",
      "93/92 [==============================] - ETA: 0s - loss: 0.4384 - accuracy: 0.7772 - top_1_accuracy: 0.7772WARNING:tensorflow:Can save best model only with val_acc available, skipping.\n",
      "93/92 [==============================] - 779s 8s/step - loss: 0.4384 - accuracy: 0.7772 - top_1_accuracy: 0.7772 - val_loss: 0.4094 - val_accuracy: 0.8236 - val_top_1_accuracy: 0.8236\n",
      "Epoch 9/50\n",
      "93/92 [==============================] - ETA: 0s - loss: 0.4313 - accuracy: 0.7882 - top_1_accuracy: 0.7882WARNING:tensorflow:Can save best model only with val_acc available, skipping.\n",
      "93/92 [==============================] - 777s 8s/step - loss: 0.4313 - accuracy: 0.7882 - top_1_accuracy: 0.7882 - val_loss: 0.4056 - val_accuracy: 0.8179 - val_top_1_accuracy: 0.8179\n",
      "Epoch 10/50\n",
      "93/92 [==============================] - ETA: 0s - loss: 0.4281 - accuracy: 0.7882 - top_1_accuracy: 0.7882WARNING:tensorflow:Can save best model only with val_acc available, skipping.\n",
      "93/92 [==============================] - 774s 8s/step - loss: 0.4281 - accuracy: 0.7882 - top_1_accuracy: 0.7882 - val_loss: 0.3968 - val_accuracy: 0.8285 - val_top_1_accuracy: 0.8285\n",
      "Epoch 11/50\n",
      "93/92 [==============================] - ETA: 0s - loss: 0.4167 - accuracy: 0.7990 - top_1_accuracy: 0.7990WARNING:tensorflow:Can save best model only with val_acc available, skipping.\n",
      "93/92 [==============================] - 790s 8s/step - loss: 0.4167 - accuracy: 0.7990 - top_1_accuracy: 0.7990 - val_loss: 0.3952 - val_accuracy: 0.8130 - val_top_1_accuracy: 0.8130\n",
      "Epoch 12/50\n",
      "93/92 [==============================] - ETA: 0s - loss: 0.4037 - accuracy: 0.8057 - top_1_accuracy: 0.8057WARNING:tensorflow:Can save best model only with val_acc available, skipping.\n",
      "93/92 [==============================] - 800s 9s/step - loss: 0.4037 - accuracy: 0.8057 - top_1_accuracy: 0.8057 - val_loss: 0.3846 - val_accuracy: 0.8409 - val_top_1_accuracy: 0.8409\n",
      "Epoch 13/50\n",
      "93/92 [==============================] - ETA: 0s - loss: 0.4037 - accuracy: 0.8076 - top_1_accuracy: 0.8076WARNING:tensorflow:Can save best model only with val_acc available, skipping.\n",
      "93/92 [==============================] - 809s 9s/step - loss: 0.4037 - accuracy: 0.8076 - top_1_accuracy: 0.8076 - val_loss: 0.3784 - val_accuracy: 0.8376 - val_top_1_accuracy: 0.8376\n",
      "Epoch 14/50\n",
      "93/92 [==============================] - ETA: 0s - loss: 0.3982 - accuracy: 0.8062 - top_1_accuracy: 0.8062WARNING:tensorflow:Can save best model only with val_acc available, skipping.\n",
      "93/92 [==============================] - 811s 9s/step - loss: 0.3982 - accuracy: 0.8062 - top_1_accuracy: 0.8062 - val_loss: 0.3887 - val_accuracy: 0.8080 - val_top_1_accuracy: 0.8080\n",
      "Epoch 15/50\n",
      "93/92 [==============================] - ETA: 0s - loss: 0.3859 - accuracy: 0.8135 - top_1_accuracy: 0.8135WARNING:tensorflow:Can save best model only with val_acc available, skipping.\n",
      "93/92 [==============================] - 816s 9s/step - loss: 0.3859 - accuracy: 0.8135 - top_1_accuracy: 0.8135 - val_loss: 0.3699 - val_accuracy: 0.8409 - val_top_1_accuracy: 0.8409\n",
      "Epoch 16/50\n",
      "93/92 [==============================] - ETA: 0s - loss: 0.3869 - accuracy: 0.8219 - top_1_accuracy: 0.8219WARNING:tensorflow:Can save best model only with val_acc available, skipping.\n",
      "93/92 [==============================] - 817s 9s/step - loss: 0.3869 - accuracy: 0.8219 - top_1_accuracy: 0.8219 - val_loss: 0.3659 - val_accuracy: 0.8458 - val_top_1_accuracy: 0.8458\n",
      "Epoch 17/50\n",
      "93/92 [==============================] - ETA: 0s - loss: 0.3727 - accuracy: 0.8251 - top_1_accuracy: 0.8251WARNING:tensorflow:Can save best model only with val_acc available, skipping.\n",
      "93/92 [==============================] - 822s 9s/step - loss: 0.3727 - accuracy: 0.8251 - top_1_accuracy: 0.8251 - val_loss: 0.3647 - val_accuracy: 0.8523 - val_top_1_accuracy: 0.8523\n",
      "Epoch 18/50\n",
      "93/92 [==============================] - ETA: 0s - loss: 0.3743 - accuracy: 0.8253 - top_1_accuracy: 0.8253WARNING:tensorflow:Can save best model only with val_acc available, skipping.\n",
      "93/92 [==============================] - 824s 9s/step - loss: 0.3743 - accuracy: 0.8253 - top_1_accuracy: 0.8253 - val_loss: 0.3776 - val_accuracy: 0.8212 - val_top_1_accuracy: 0.8212\n",
      "Epoch 19/50\n",
      "93/92 [==============================] - ETA: 0s - loss: 0.3614 - accuracy: 0.8326 - top_1_accuracy: 0.8326WARNING:tensorflow:Can save best model only with val_acc available, skipping.\n",
      "93/92 [==============================] - 823s 9s/step - loss: 0.3614 - accuracy: 0.8326 - top_1_accuracy: 0.8326 - val_loss: 0.3570 - val_accuracy: 0.8450 - val_top_1_accuracy: 0.8450\n",
      "Epoch 20/50\n",
      "93/92 [==============================] - ETA: 0s - loss: 0.3513 - accuracy: 0.8337 - top_1_accuracy: 0.8337WARNING:tensorflow:Can save best model only with val_acc available, skipping.\n",
      "93/92 [==============================] - 823s 9s/step - loss: 0.3513 - accuracy: 0.8337 - top_1_accuracy: 0.8337 - val_loss: 0.3758 - val_accuracy: 0.8203 - val_top_1_accuracy: 0.8203\n",
      "Epoch 21/50\n",
      "93/92 [==============================] - ETA: 0s - loss: 0.3506 - accuracy: 0.8353 - top_1_accuracy: 0.8353WARNING:tensorflow:Can save best model only with val_acc available, skipping.\n",
      "93/92 [==============================] - 825s 9s/step - loss: 0.3506 - accuracy: 0.8353 - top_1_accuracy: 0.8353 - val_loss: 0.3561 - val_accuracy: 0.8466 - val_top_1_accuracy: 0.8466\n"
     ]
    },
    {
     "name": "stdout",
     "output_type": "stream",
     "text": [
      "Epoch 22/50\n",
      "93/92 [==============================] - ETA: 0s - loss: 0.3530 - accuracy: 0.8326 - top_1_accuracy: 0.8326WARNING:tensorflow:Can save best model only with val_acc available, skipping.\n",
      "93/92 [==============================] - 822s 9s/step - loss: 0.3530 - accuracy: 0.8326 - top_1_accuracy: 0.8326 - val_loss: 0.3547 - val_accuracy: 0.8450 - val_top_1_accuracy: 0.8450\n",
      "Epoch 23/50\n",
      "93/92 [==============================] - ETA: 0s - loss: 0.3353 - accuracy: 0.8450 - top_1_accuracy: 0.8450WARNING:tensorflow:Can save best model only with val_acc available, skipping.\n",
      "93/92 [==============================] - 796s 9s/step - loss: 0.3353 - accuracy: 0.8450 - top_1_accuracy: 0.8450 - val_loss: 0.3506 - val_accuracy: 0.8507 - val_top_1_accuracy: 0.8507\n",
      "Epoch 24/50\n",
      "93/92 [==============================] - ETA: 0s - loss: 0.3341 - accuracy: 0.8485 - top_1_accuracy: 0.8485WARNING:tensorflow:Can save best model only with val_acc available, skipping.\n",
      "93/92 [==============================] - 786s 8s/step - loss: 0.3341 - accuracy: 0.8485 - top_1_accuracy: 0.8485 - val_loss: 0.3474 - val_accuracy: 0.8482 - val_top_1_accuracy: 0.8482\n",
      "Epoch 25/50\n",
      "93/92 [==============================] - ETA: 0s - loss: 0.3277 - accuracy: 0.8544 - top_1_accuracy: 0.8544WARNING:tensorflow:Can save best model only with val_acc available, skipping.\n",
      "93/92 [==============================] - 780s 8s/step - loss: 0.3277 - accuracy: 0.8544 - top_1_accuracy: 0.8544 - val_loss: 0.3445 - val_accuracy: 0.8491 - val_top_1_accuracy: 0.8491\n",
      "Epoch 26/50\n",
      "93/92 [==============================] - ETA: 0s - loss: 0.3162 - accuracy: 0.8579 - top_1_accuracy: 0.8579WARNING:tensorflow:Can save best model only with val_acc available, skipping.\n",
      "93/92 [==============================] - 774s 8s/step - loss: 0.3162 - accuracy: 0.8579 - top_1_accuracy: 0.8579 - val_loss: 0.3408 - val_accuracy: 0.8441 - val_top_1_accuracy: 0.8441\n",
      "Epoch 27/50\n",
      "93/92 [==============================] - ETA: 0s - loss: 0.3167 - accuracy: 0.8550 - top_1_accuracy: 0.8550WARNING:tensorflow:Can save best model only with val_acc available, skipping.\n",
      "93/92 [==============================] - 775s 8s/step - loss: 0.3167 - accuracy: 0.8550 - top_1_accuracy: 0.8550 - val_loss: 0.3417 - val_accuracy: 0.8499 - val_top_1_accuracy: 0.8499\n",
      "Epoch 28/50\n",
      "93/92 [==============================] - ETA: 0s - loss: 0.3204 - accuracy: 0.8509 - top_1_accuracy: 0.8509WARNING:tensorflow:Can save best model only with val_acc available, skipping.\n",
      "93/92 [==============================] - 794s 9s/step - loss: 0.3204 - accuracy: 0.8509 - top_1_accuracy: 0.8509 - val_loss: 0.3423 - val_accuracy: 0.8540 - val_top_1_accuracy: 0.8540\n",
      "Epoch 29/50\n",
      "93/92 [==============================] - ETA: 0s - loss: 0.3276 - accuracy: 0.8528 - top_1_accuracy: 0.8528WARNING:tensorflow:Can save best model only with val_acc available, skipping.\n",
      "93/92 [==============================] - 806s 9s/step - loss: 0.3276 - accuracy: 0.8528 - top_1_accuracy: 0.8528 - val_loss: 0.3838 - val_accuracy: 0.8162 - val_top_1_accuracy: 0.8162\n",
      "Epoch 30/50\n",
      "93/92 [==============================] - ETA: 0s - loss: 0.2982 - accuracy: 0.8716 - top_1_accuracy: 0.8716WARNING:tensorflow:Can save best model only with val_acc available, skipping.\n",
      "93/92 [==============================] - 812s 9s/step - loss: 0.2982 - accuracy: 0.8716 - top_1_accuracy: 0.8716 - val_loss: 0.3383 - val_accuracy: 0.8532 - val_top_1_accuracy: 0.8532\n",
      "Epoch 31/50\n",
      "93/92 [==============================] - ETA: 0s - loss: 0.3029 - accuracy: 0.8641 - top_1_accuracy: 0.8641WARNING:tensorflow:Can save best model only with val_acc available, skipping.\n",
      "93/92 [==============================] - 818s 9s/step - loss: 0.3029 - accuracy: 0.8641 - top_1_accuracy: 0.8641 - val_loss: 0.3574 - val_accuracy: 0.8376 - val_top_1_accuracy: 0.8376\n",
      "Epoch 32/50\n",
      "93/92 [==============================] - ETA: 0s - loss: 0.2970 - accuracy: 0.8687 - top_1_accuracy: 0.8687WARNING:tensorflow:Can save best model only with val_acc available, skipping.\n",
      "93/92 [==============================] - 818s 9s/step - loss: 0.2970 - accuracy: 0.8687 - top_1_accuracy: 0.8687 - val_loss: 0.3475 - val_accuracy: 0.8441 - val_top_1_accuracy: 0.8441\n",
      "Epoch 33/50\n",
      "93/92 [==============================] - ETA: 0s - loss: 0.2903 - accuracy: 0.8711 - top_1_accuracy: 0.8711WARNING:tensorflow:Can save best model only with val_acc available, skipping.\n",
      "93/92 [==============================] - 819s 9s/step - loss: 0.2903 - accuracy: 0.8711 - top_1_accuracy: 0.8711 - val_loss: 0.3372 - val_accuracy: 0.8474 - val_top_1_accuracy: 0.8474\n",
      "Epoch 34/50\n",
      "93/92 [==============================] - ETA: 0s - loss: 0.2885 - accuracy: 0.8695 - top_1_accuracy: 0.8695WARNING:tensorflow:Can save best model only with val_acc available, skipping.\n",
      "93/92 [==============================] - 821s 9s/step - loss: 0.2885 - accuracy: 0.8695 - top_1_accuracy: 0.8695 - val_loss: 0.3462 - val_accuracy: 0.8425 - val_top_1_accuracy: 0.8425\n",
      "Epoch 35/50\n",
      "93/92 [==============================] - ETA: 0s - loss: 0.2747 - accuracy: 0.8802 - top_1_accuracy: 0.8802WARNING:tensorflow:Can save best model only with val_acc available, skipping.\n",
      "93/92 [==============================] - 825s 9s/step - loss: 0.2747 - accuracy: 0.8802 - top_1_accuracy: 0.8802 - val_loss: 0.3352 - val_accuracy: 0.8540 - val_top_1_accuracy: 0.8540\n",
      "Epoch 36/50\n",
      "93/92 [==============================] - ETA: 0s - loss: 0.2779 - accuracy: 0.8800 - top_1_accuracy: 0.8800WARNING:tensorflow:Can save best model only with val_acc available, skipping.\n",
      "93/92 [==============================] - 826s 9s/step - loss: 0.2779 - accuracy: 0.8800 - top_1_accuracy: 0.8800 - val_loss: 0.4279 - val_accuracy: 0.8015 - val_top_1_accuracy: 0.8015\n",
      "Epoch 37/50\n",
      "93/92 [==============================] - ETA: 0s - loss: 0.2749 - accuracy: 0.8832 - top_1_accuracy: 0.8832WARNING:tensorflow:Can save best model only with val_acc available, skipping.\n",
      "93/92 [==============================] - 822s 9s/step - loss: 0.2749 - accuracy: 0.8832 - top_1_accuracy: 0.8832 - val_loss: 0.3406 - val_accuracy: 0.8548 - val_top_1_accuracy: 0.8548\n",
      "Epoch 38/50\n",
      "93/92 [==============================] - ETA: 0s - loss: 0.2610 - accuracy: 0.8840 - top_1_accuracy: 0.8840WARNING:tensorflow:Can save best model only with val_acc available, skipping.\n",
      "93/92 [==============================] - 791s 9s/step - loss: 0.2610 - accuracy: 0.8840 - top_1_accuracy: 0.8840 - val_loss: 0.3318 - val_accuracy: 0.8614 - val_top_1_accuracy: 0.8614\n",
      "Epoch 39/50\n",
      "93/92 [==============================] - ETA: 0s - loss: 0.2548 - accuracy: 0.8905 - top_1_accuracy: 0.8905WARNING:tensorflow:Can save best model only with val_acc available, skipping.\n",
      "93/92 [==============================] - 782s 8s/step - loss: 0.2548 - accuracy: 0.8905 - top_1_accuracy: 0.8905 - val_loss: 0.3454 - val_accuracy: 0.8474 - val_top_1_accuracy: 0.8474\n",
      "Epoch 40/50\n",
      "93/92 [==============================] - ETA: 0s - loss: 0.2586 - accuracy: 0.8846 - top_1_accuracy: 0.8846WARNING:tensorflow:Can save best model only with val_acc available, skipping.\n",
      "93/92 [==============================] - 785s 8s/step - loss: 0.2586 - accuracy: 0.8846 - top_1_accuracy: 0.8846 - val_loss: 0.3490 - val_accuracy: 0.8466 - val_top_1_accuracy: 0.8466\n",
      "Epoch 41/50\n",
      "93/92 [==============================] - ETA: 0s - loss: 0.2523 - accuracy: 0.8921 - top_1_accuracy: 0.8921WARNING:tensorflow:Can save best model only with val_acc available, skipping.\n",
      "93/92 [==============================] - 779s 8s/step - loss: 0.2523 - accuracy: 0.8921 - top_1_accuracy: 0.8921 - val_loss: 0.3520 - val_accuracy: 0.8482 - val_top_1_accuracy: 0.8482\n",
      "Epoch 42/50\n",
      "93/92 [==============================] - ETA: 0s - loss: 0.2456 - accuracy: 0.8975 - top_1_accuracy: 0.8975WARNING:tensorflow:Can save best model only with val_acc available, skipping.\n",
      "93/92 [==============================] - 779s 8s/step - loss: 0.2456 - accuracy: 0.8975 - top_1_accuracy: 0.8975 - val_loss: 0.3610 - val_accuracy: 0.8491 - val_top_1_accuracy: 0.8491\n",
      "Epoch 43/50\n",
      "93/92 [==============================] - ETA: 0s - loss: 0.2409 - accuracy: 0.8972 - top_1_accuracy: 0.8972WARNING:tensorflow:Can save best model only with val_acc available, skipping.\n"
     ]
    },
    {
     "name": "stdout",
     "output_type": "stream",
     "text": [
      "93/92 [==============================] - 783s 8s/step - loss: 0.2409 - accuracy: 0.8972 - top_1_accuracy: 0.8972 - val_loss: 0.3353 - val_accuracy: 0.8597 - val_top_1_accuracy: 0.8597\n",
      "Epoch 44/50\n",
      "93/92 [==============================] - ETA: 0s - loss: 0.2580 - accuracy: 0.8878 - top_1_accuracy: 0.8878WARNING:tensorflow:Can save best model only with val_acc available, skipping.\n",
      "93/92 [==============================] - 784s 8s/step - loss: 0.2580 - accuracy: 0.8878 - top_1_accuracy: 0.8878 - val_loss: 0.4124 - val_accuracy: 0.8130 - val_top_1_accuracy: 0.8130\n",
      "Epoch 45/50\n",
      "93/92 [==============================] - ETA: 0s - loss: 0.2420 - accuracy: 0.8950 - top_1_accuracy: 0.8950WARNING:tensorflow:Can save best model only with val_acc available, skipping.\n",
      "93/92 [==============================] - 783s 8s/step - loss: 0.2420 - accuracy: 0.8950 - top_1_accuracy: 0.8950 - val_loss: 0.3376 - val_accuracy: 0.8523 - val_top_1_accuracy: 0.8523\n",
      "Epoch 46/50\n",
      "93/92 [==============================] - ETA: 0s - loss: 0.2266 - accuracy: 0.9053 - top_1_accuracy: 0.9053WARNING:tensorflow:Can save best model only with val_acc available, skipping.\n",
      "93/92 [==============================] - 784s 8s/step - loss: 0.2266 - accuracy: 0.9053 - top_1_accuracy: 0.9053 - val_loss: 0.3519 - val_accuracy: 0.8523 - val_top_1_accuracy: 0.8523\n",
      "Epoch 47/50\n",
      "93/92 [==============================] - ETA: 0s - loss: 0.2241 - accuracy: 0.9029 - top_1_accuracy: 0.9029WARNING:tensorflow:Can save best model only with val_acc available, skipping.\n",
      "93/92 [==============================] - 788s 8s/step - loss: 0.2241 - accuracy: 0.9029 - top_1_accuracy: 0.9029 - val_loss: 0.3467 - val_accuracy: 0.8532 - val_top_1_accuracy: 0.8532\n",
      "Epoch 48/50\n",
      "93/92 [==============================] - ETA: 0s - loss: 0.2175 - accuracy: 0.9144 - top_1_accuracy: 0.9144WARNING:tensorflow:Can save best model only with val_acc available, skipping.\n",
      "93/92 [==============================] - 787s 8s/step - loss: 0.2175 - accuracy: 0.9144 - top_1_accuracy: 0.9144 - val_loss: 0.3357 - val_accuracy: 0.8605 - val_top_1_accuracy: 0.8605\n",
      "Epoch 49/50\n",
      "93/92 [==============================] - ETA: 0s - loss: 0.2109 - accuracy: 0.9096 - top_1_accuracy: 0.9096WARNING:tensorflow:Can save best model only with val_acc available, skipping.\n",
      "93/92 [==============================] - 788s 8s/step - loss: 0.2109 - accuracy: 0.9096 - top_1_accuracy: 0.9096 - val_loss: 0.3399 - val_accuracy: 0.8556 - val_top_1_accuracy: 0.8556\n",
      "Epoch 50/50\n",
      "93/92 [==============================] - ETA: 0s - loss: 0.2019 - accuracy: 0.9209 - top_1_accuracy: 0.9209WARNING:tensorflow:Can save best model only with val_acc available, skipping.\n",
      "93/92 [==============================] - 783s 8s/step - loss: 0.2019 - accuracy: 0.9209 - top_1_accuracy: 0.9209 - val_loss: 0.3499 - val_accuracy: 0.8556 - val_top_1_accuracy: 0.8556\n"
     ]
    },
    {
     "data": {
      "text/plain": [
       "<tensorflow.python.keras.callbacks.History at 0x7fe06420cd10>"
      ]
     },
     "execution_count": 9,
     "metadata": {},
     "output_type": "execute_result"
    }
   ],
   "source": [
    "from keras.callbacks import ModelCheckpoint, TensorBoard\n",
    "from time import time\n",
    "\n",
    "tensorboard = TensorBoard(log_dir=\"logs/layers_frozen_{}\".format(num_layers_to_freeze))\n",
    "\n",
    "# checkpoint\n",
    "filepath=\"esc50_vgg16_stft_weights_train_last_2_base_layers.best.hdf5\"\n",
    "best_model_checkpoint = ModelCheckpoint(filepath, monitor='val_acc', verbose=1, save_best_only=True, mode='max')\n",
    "callbacks_list = [best_model_checkpoint, tensorboard]\n",
    "\n",
    "# parallel_model.fit_generator(\n",
    "#     training_generator,\n",
    "#     steps_per_epoch=nb_training_samples/batch_size,\n",
    "#     epochs=epochs,\n",
    "#     validation_data=validation_generator,\n",
    "#     validation_steps=nb_validation_samples/batch_size,\n",
    "#     callbacks=callbacks_list)\n",
    "\n",
    "model.fit_generator(\n",
    "    training_generator,\n",
    "    steps_per_epoch=nb_training_samples/batch_size,\n",
    "    epochs=epochs,\n",
    "    validation_data=validation_generator,\n",
    "    validation_steps=nb_validation_samples/batch_size,\n",
    "    callbacks=callbacks_list)\n",
    "# parallel_model.fit_generator(\n",
    "#     training_generator,\n",
    "#     samples_per_epoch=nb_training_samples,\n",
    "#     epochs=epochs,\n",
    "#     validation_data=validation_generator,\n",
    "#     validation_steps=nb_validation_samples/batch_size,)\n",
    "#     nb_val_samples=nb_validation_samples)"
   ]
  },
  {
   "cell_type": "markdown",
   "metadata": {},
   "source": [
    "# Get top k predictions for selected test files"
   ]
  },
  {
   "cell_type": "code",
   "execution_count": 10,
   "metadata": {},
   "outputs": [],
   "source": [
    "def get_top_k_predictions(preds, label_map, k=1, print_flag=False):\n",
    "    sorted_array = np.argsort(preds)[::-1]\n",
    "    top_k = sorted_array[:k]\n",
    "    label_map_flip = dict((v,k) for k,v in label_map.items())\n",
    "    \n",
    "    y_pred = []\n",
    "    for label_index in top_k:\n",
    "        if print_flag:\n",
    "            print (\"{} ({})\".format(label_map_flip[label_index], preds[label_index]))\n",
    "        y_pred.append(label_map_flip[label_index])\n",
    "        \n",
    "    return y_pred"
   ]
  },
  {
   "cell_type": "code",
   "execution_count": 11,
   "metadata": {},
   "outputs": [
    {
     "data": {
      "text/plain": [
       "['not_sick', 'sick']"
      ]
     },
     "execution_count": 11,
     "metadata": {},
     "output_type": "execute_result"
    }
   ],
   "source": [
    "label_map = (training_generator.class_indices)\n",
    " \n",
    "json2 = json.dumps(label_map)\n",
    "f = open(\"cough_label_map.json\",\"w\")\n",
    "f.write(json2)\n",
    "f.close()\n",
    "\n",
    "img_path = '/Users/xt/Desktop/OSF/melspectrograms/test/sick/audioset__3RvCwwIZ4w_10_15.png'\n",
    "img = image.load_img(img_path, target_size=(224, 224))\n",
    "x = image.img_to_array(img)\n",
    "x = np.expand_dims(x, axis=0)* 1./255\n",
    "\n",
    "preds = model.predict(x)[0]\n",
    "\n",
    "get_top_k_predictions(preds, label_map, k=1)"
   ]
  },
  {
   "cell_type": "markdown",
   "metadata": {},
   "source": [
    "# Calculate and plot confusion matrix"
   ]
  },
  {
   "cell_type": "code",
   "execution_count": 12,
   "metadata": {},
   "outputs": [],
   "source": [
    "import itertools\n",
    "import matplotlib.pyplot as plt\n",
    "def plot_confusion_matrix(cm, classes,\n",
    "                          normalize=False,\n",
    "                          title='Confusion matrix',\n",
    "                          cmap=plt.cm.Blues):\n",
    "    \"\"\"\n",
    "    This function prints and plots the confusion matrix.\n",
    "    Normalization can be applied by setting `normalize=True`.\n",
    "    \"\"\"\n",
    "    if normalize:\n",
    "        cm = cm.astype('float') / cm.sum(axis=1)[:, np.newaxis]\n",
    "        print(\"Normalized confusion matrix\")\n",
    "    else:\n",
    "        print('Confusion matrix, without normalization')\n",
    "\n",
    "#     print(cm)\n",
    "    plt.figure(figsize=(24,24))\n",
    "    plt.imshow(cm, interpolation='nearest', cmap=cmap)\n",
    "    plt.title(title)\n",
    "    plt.colorbar()\n",
    "    tick_marks = np.arange(len(classes))\n",
    "    plt.xticks(tick_marks, classes, rotation=90)\n",
    "    plt.yticks(tick_marks, classes)\n",
    "\n",
    "    fmt = '.2f' if normalize else 'd'\n",
    "    thresh = cm.max() / 2.\n",
    "    for i, j in itertools.product(range(cm.shape[0]), range(cm.shape[1])):\n",
    "        plt.text(j, i, format(cm[i, j], fmt),\n",
    "                 horizontalalignment=\"center\",\n",
    "                 color=\"white\" if cm[i, j] > thresh else \"black\")\n",
    "\n",
    "    plt.tight_layout()\n",
    "    plt.ylabel('True label')\n",
    "    plt.xlabel('Predicted label')\n",
    "    "
   ]
  },
  {
   "cell_type": "code",
   "execution_count": 13,
   "metadata": {},
   "outputs": [
    {
     "name": "stdout",
     "output_type": "stream",
     "text": [
      "Normalized confusion matrix\n"
     ]
    },
    {
     "data": {
      "image/png": "[encoded data removed]",
      "text/plain": [
       "<Figure size 1728x1728 with 2 Axes>"
      ]
     },
     "metadata": {
      "needs_background": "light"
     },
     "output_type": "display_data"
    }
   ],
   "source": [
    "import os\n",
    "import io\n",
    "import requests\n",
    "import urllib.request\n",
    "from PIL import Image\n",
    "from keras.preprocessing import image\n",
    "from sklearn.metrics import confusion_matrix\n",
    "\n",
    "testing_dir = '/Users/xt/Desktop/OSF/melspectrograms/test/'\n",
    "\n",
    "y_true = []\n",
    "y_pred = []\n",
    "for label in label_map.keys():\n",
    "    file_list = os.listdir(testing_dir + label)\n",
    "    for file_name in file_list:\n",
    "        if file_name != '.DS_Store':\n",
    "            img_path = testing_dir + label + '/' + file_name\n",
    "            img = image.load_img(img_path, target_size=(224, 224))\n",
    "            \n",
    "            x = image.img_to_array(img)\n",
    "            x = np.expand_dims(x, axis=0)* 1./255\n",
    "            \n",
    "            preds = model.predict(x)[0]\n",
    "            \n",
    "            y_true.append(label)\n",
    "            y_pred.append(get_top_k_predictions(preds, label_map, k=1)[0])\n",
    "        \n",
    "cm = confusion_matrix(y_true, y_pred)\n",
    "plot_confusion_matrix(cm, sorted(label_map.keys()), normalize=True)"
   ]
  },
  {
   "cell_type": "code",
   "execution_count": null,
   "metadata": {},
   "outputs": [],
   "source": []
  }
 ],
 "metadata": {
  "kernelspec": {
   "display_name": "Python 3",
   "language": "python",
   "name": "python3"
  },
  "language_info": {
   "codemirror_mode": {
    "name": "ipython",
    "version": 3
   },
   "file_extension": ".py",
   "mimetype": "text/x-python",
   "name": "python",
   "nbconvert_exporter": "python",
   "pygments_lexer": "ipython3",
   "version": "3.7.6"
  }
 },
 "nbformat": 4,
 "nbformat_minor": 2
}
