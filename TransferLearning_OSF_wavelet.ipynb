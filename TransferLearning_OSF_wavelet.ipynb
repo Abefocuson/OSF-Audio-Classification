{
 "cells": [
  {
   "cell_type": "markdown",
   "metadata": {},
   "source": [
    "### Audio Event Classifier with Deep Learning\n",
    "\n",
    "Build a CNN sound classifier using continuous_wavelet_transform from OSF data."
   ]
  },
  {
   "cell_type": "code",
   "execution_count": 1,
   "metadata": {},
   "outputs": [],
   "source": [
    "%matplotlib inline\n",
    "from keras.applications.vgg16 import VGG16, preprocess_input\n",
    "from keras.preprocessing import image\n",
    "from keras.models import Sequential, Model\n",
    "from keras.layers import Dense, Dropout, Flatten, Input\n",
    "from keras.applications.vgg16 import preprocess_input\n",
    "from keras.utils import multi_gpu_model\n",
    "import numpy as np\n",
    "import json\n",
    "import PIL"
   ]
  },
  {
   "cell_type": "markdown",
   "metadata": {},
   "source": [
    "# Set parameter values"
   ]
  },
  {
   "cell_type": "code",
   "execution_count": 2,
   "metadata": {},
   "outputs": [],
   "source": [
    "batch_size = 40\n",
    "epochs = 50\n",
    "\n",
    "# dimensions of our images.\n",
    "img_width, img_height = 224, 224\n",
    "\n",
    "input_tensor = Input(shape=(224,224,3))\n",
    "\n",
    "nb_training_samples = 3716\n",
    "nb_validation_samples = 1219# Set parameter values"
   ]
  },
  {
   "cell_type": "markdown",
   "metadata": {},
   "source": [
    "# Configure training and validation data generators\n",
    "\n",
    "Provide paths to training and testing set directores"
   ]
  },
  {
   "cell_type": "code",
   "execution_count": 3,
   "metadata": {},
   "outputs": [
    {
     "name": "stdout",
     "output_type": "stream",
     "text": [
      "Found 3716 images belonging to 2 classes.\n",
      "Found 1219 images belonging to 2 classes.\n"
     ]
    }
   ],
   "source": [
    "# training generator configuration\n",
    "training_data_dir = '/Users/xt/Desktop/OSF/continuous_wavelet_transform/train/'\n",
    "\n",
    "training_datagen = image.ImageDataGenerator(\n",
    "    rescale=1./255)\n",
    "\n",
    "training_generator = training_datagen.flow_from_directory(\n",
    "    training_data_dir,\n",
    "    target_size=(img_height, img_width),\n",
    "    batch_size=batch_size)\n",
    "\n",
    "# validation generator configuration\n",
    "validation_data_dir ='/Users/xt/Desktop/OSF/continuous_wavelet_transform/validation/'\n",
    "\n",
    "validation_datagen = image.ImageDataGenerator(\n",
    "    rescale=1./255)\n",
    "\n",
    "validation_generator = validation_datagen.flow_from_directory(\n",
    "    validation_data_dir,\n",
    "    target_size=(img_height, img_width),\n",
    "    batch_size=batch_size)"
   ]
  },
  {
   "cell_type": "markdown",
   "metadata": {},
   "source": [
    "# Load base model"
   ]
  },
  {
   "cell_type": "code",
   "execution_count": 4,
   "metadata": {},
   "outputs": [
    {
     "name": "stdout",
     "output_type": "stream",
     "text": [
      "Model loaded.\n",
      "Model: \"vgg16\"\n",
      "_________________________________________________________________\n",
      "Layer (type)                 Output Shape              Param #   \n",
      "=================================================================\n",
      "input_1 (InputLayer)         [(None, 224, 224, 3)]     0         \n",
      "_________________________________________________________________\n",
      "block1_conv1 (Conv2D)        (None, 224, 224, 64)      1792      \n",
      "_________________________________________________________________\n",
      "block1_conv2 (Conv2D)        (None, 224, 224, 64)      36928     \n",
      "_________________________________________________________________\n",
      "block1_pool (MaxPooling2D)   (None, 112, 112, 64)      0         \n",
      "_________________________________________________________________\n",
      "block2_conv1 (Conv2D)        (None, 112, 112, 128)     73856     \n",
      "_________________________________________________________________\n",
      "block2_conv2 (Conv2D)        (None, 112, 112, 128)     147584    \n",
      "_________________________________________________________________\n",
      "block2_pool (MaxPooling2D)   (None, 56, 56, 128)       0         \n",
      "_________________________________________________________________\n",
      "block3_conv1 (Conv2D)        (None, 56, 56, 256)       295168    \n",
      "_________________________________________________________________\n",
      "block3_conv2 (Conv2D)        (None, 56, 56, 256)       590080    \n",
      "_________________________________________________________________\n",
      "block3_conv3 (Conv2D)        (None, 56, 56, 256)       590080    \n",
      "_________________________________________________________________\n",
      "block3_pool (MaxPooling2D)   (None, 28, 28, 256)       0         \n",
      "_________________________________________________________________\n",
      "block4_conv1 (Conv2D)        (None, 28, 28, 512)       1180160   \n",
      "_________________________________________________________________\n",
      "block4_conv2 (Conv2D)        (None, 28, 28, 512)       2359808   \n",
      "_________________________________________________________________\n",
      "block4_conv3 (Conv2D)        (None, 28, 28, 512)       2359808   \n",
      "_________________________________________________________________\n",
      "block4_pool (MaxPooling2D)   (None, 14, 14, 512)       0         \n",
      "_________________________________________________________________\n",
      "block5_conv1 (Conv2D)        (None, 14, 14, 512)       2359808   \n",
      "_________________________________________________________________\n",
      "block5_conv2 (Conv2D)        (None, 14, 14, 512)       2359808   \n",
      "_________________________________________________________________\n",
      "block5_conv3 (Conv2D)        (None, 14, 14, 512)       2359808   \n",
      "_________________________________________________________________\n",
      "block5_pool (MaxPooling2D)   (None, 7, 7, 512)         0         \n",
      "=================================================================\n",
      "Total params: 14,714,688\n",
      "Trainable params: 14,714,688\n",
      "Non-trainable params: 0\n",
      "_________________________________________________________________\n"
     ]
    }
   ],
   "source": [
    "base_model = VGG16(weights='imagenet', include_top=False, input_tensor=input_tensor)\n",
    "print('Model loaded.')\n",
    "base_model.summary()"
   ]
  },
  {
   "cell_type": "markdown",
   "metadata": {},
   "source": [
    "# Build top model"
   ]
  },
  {
   "cell_type": "code",
   "execution_count": 5,
   "metadata": {},
   "outputs": [
    {
     "name": "stdout",
     "output_type": "stream",
     "text": [
      "Model: \"sequential\"\n",
      "_________________________________________________________________\n",
      "Layer (type)                 Output Shape              Param #   \n",
      "=================================================================\n",
      "flatten (Flatten)            (None, 25088)             0         \n",
      "_________________________________________________________________\n",
      "dense (Dense)                (None, 256)               6422784   \n",
      "_________________________________________________________________\n",
      "dropout (Dropout)            (None, 256)               0         \n",
      "_________________________________________________________________\n",
      "dense_1 (Dense)              (None, 2)                 514       \n",
      "=================================================================\n",
      "Total params: 6,423,298\n",
      "Trainable params: 6,423,298\n",
      "Non-trainable params: 0\n",
      "_________________________________________________________________\n"
     ]
    }
   ],
   "source": [
    "# build a classifier model to put on top of the convolutional model\n",
    "top_model = Sequential()\n",
    "top_model.add(Flatten(input_shape=base_model.output_shape[1:]))\n",
    "top_model.add(Dense(256, activation='relu'))\n",
    "top_model.add(Dropout(0.5))\n",
    "top_model.add(Dense(2, activation='softmax'))\n",
    "top_model.summary()"
   ]
  },
  {
   "cell_type": "markdown",
   "metadata": {},
   "source": [
    "# Combine base model with top model"
   ]
  },
  {
   "cell_type": "code",
   "execution_count": 6,
   "metadata": {},
   "outputs": [
    {
     "name": "stdout",
     "output_type": "stream",
     "text": [
      "Model: \"model\"\n",
      "_________________________________________________________________\n",
      "Layer (type)                 Output Shape              Param #   \n",
      "=================================================================\n",
      "input_1 (InputLayer)         [(None, 224, 224, 3)]     0         \n",
      "_________________________________________________________________\n",
      "block1_conv1 (Conv2D)        (None, 224, 224, 64)      1792      \n",
      "_________________________________________________________________\n",
      "block1_conv2 (Conv2D)        (None, 224, 224, 64)      36928     \n",
      "_________________________________________________________________\n",
      "block1_pool (MaxPooling2D)   (None, 112, 112, 64)      0         \n",
      "_________________________________________________________________\n",
      "block2_conv1 (Conv2D)        (None, 112, 112, 128)     73856     \n",
      "_________________________________________________________________\n",
      "block2_conv2 (Conv2D)        (None, 112, 112, 128)     147584    \n",
      "_________________________________________________________________\n",
      "block2_pool (MaxPooling2D)   (None, 56, 56, 128)       0         \n",
      "_________________________________________________________________\n",
      "block3_conv1 (Conv2D)        (None, 56, 56, 256)       295168    \n",
      "_________________________________________________________________\n",
      "block3_conv2 (Conv2D)        (None, 56, 56, 256)       590080    \n",
      "_________________________________________________________________\n",
      "block3_conv3 (Conv2D)        (None, 56, 56, 256)       590080    \n",
      "_________________________________________________________________\n",
      "block3_pool (MaxPooling2D)   (None, 28, 28, 256)       0         \n",
      "_________________________________________________________________\n",
      "block4_conv1 (Conv2D)        (None, 28, 28, 512)       1180160   \n",
      "_________________________________________________________________\n",
      "block4_conv2 (Conv2D)        (None, 28, 28, 512)       2359808   \n",
      "_________________________________________________________________\n",
      "block4_conv3 (Conv2D)        (None, 28, 28, 512)       2359808   \n",
      "_________________________________________________________________\n",
      "block4_pool (MaxPooling2D)   (None, 14, 14, 512)       0         \n",
      "_________________________________________________________________\n",
      "block5_conv1 (Conv2D)        (None, 14, 14, 512)       2359808   \n",
      "_________________________________________________________________\n",
      "block5_conv2 (Conv2D)        (None, 14, 14, 512)       2359808   \n",
      "_________________________________________________________________\n",
      "block5_conv3 (Conv2D)        (None, 14, 14, 512)       2359808   \n",
      "_________________________________________________________________\n",
      "block5_pool (MaxPooling2D)   (None, 7, 7, 512)         0         \n",
      "_________________________________________________________________\n",
      "sequential (Sequential)      (None, 2)                 6423298   \n",
      "=================================================================\n",
      "Total params: 21,137,986\n",
      "Trainable params: 21,137,986\n",
      "Non-trainable params: 0\n",
      "_________________________________________________________________\n"
     ]
    }
   ],
   "source": [
    "# top_model.load_weights('bootlneck_fc_model.h5')\n",
    "model = Model(inputs=base_model.input, outputs=top_model(base_model.output))\n",
    "model.summary()"
   ]
  },
  {
   "cell_type": "markdown",
   "metadata": {},
   "source": [
    "# Configure model training"
   ]
  },
  {
   "cell_type": "code",
   "execution_count": 7,
   "metadata": {},
   "outputs": [],
   "source": [
    "num_layers_to_freeze = 15"
   ]
  },
  {
   "cell_type": "code",
   "execution_count": 8,
   "metadata": {},
   "outputs": [],
   "source": [
    "from keras import metrics, optimizers\n",
    "\n",
    "def top_1_accuracy(y_true, y_pred):\n",
    "    return metrics.top_k_categorical_accuracy(y_true, y_pred, k=1)\n",
    "\n",
    "for layer in model.layers[:num_layers_to_freeze]:\n",
    "    layer.trainable = False\n",
    "\n",
    "# use nesterov accelrated gradient descent ??\n",
    "# optimizer=optimizers.SGD(lr=1e-4, momentum=0.9, decay=1e-6, nesterov=True)\n",
    "model.compile(optimizer=optimizers.SGD(lr=1e-4, momentum=0.9), \n",
    "                      loss='categorical_crossentropy', \n",
    "                      metrics=['accuracy', top_1_accuracy])\n",
    "\n",
    "# parallel_model.compile(optimizer=optimizers.SGD(lr=1e-4, momentum=0.9), \n",
    "#                       loss='categorical_crossentropy', \n",
    "#                       metrics=['accuracy', top_1_accuracy])\n",
    "\n",
    "# serialize model to JSON\n",
    "model_json = model.to_json()\n",
    "model_filename = \"vgg16_model_{}_frozen_layers.json\".format(num_layers_to_freeze)\n",
    "with open(model_filename, \"w\") as json_file:\n",
    "    json_file.write(model_json)"
   ]
  },
  {
   "cell_type": "markdown",
   "metadata": {},
   "source": [
    "# Fine-tune the model"
   ]
  },
  {
   "cell_type": "code",
   "execution_count": 9,
   "metadata": {
    "scrolled": false
   },
   "outputs": [
    {
     "name": "stdout",
     "output_type": "stream",
     "text": [
      "WARNING:tensorflow:From <ipython-input-9-8e097d1fe831>:25: Model.fit_generator (from tensorflow.python.keras.engine.training) is deprecated and will be removed in a future version.\n",
      "Instructions for updating:\n",
      "Please use Model.fit, which supports generators.\n",
      "Epoch 1/50\n",
      "93/92 [==============================] - ETA: 0s - loss: 0.6581 - accuracy: 0.6136 - top_1_accuracy: 0.6136WARNING:tensorflow:Can save best model only with val_acc available, skipping.\n",
      "93/92 [==============================] - 781s 8s/step - loss: 0.6581 - accuracy: 0.6136 - top_1_accuracy: 0.6136 - val_loss: 0.5500 - val_accuracy: 0.7441 - val_top_1_accuracy: 0.7441\n",
      "Epoch 2/50\n",
      "93/92 [==============================] - ETA: 0s - loss: 0.5551 - accuracy: 0.7040 - top_1_accuracy: 0.7040WARNING:tensorflow:Can save best model only with val_acc available, skipping.\n",
      "93/92 [==============================] - 775s 8s/step - loss: 0.5551 - accuracy: 0.7040 - top_1_accuracy: 0.7040 - val_loss: 0.5153 - val_accuracy: 0.7260 - val_top_1_accuracy: 0.7260\n",
      "Epoch 3/50\n",
      "93/92 [==============================] - ETA: 0s - loss: 0.5123 - accuracy: 0.7365 - top_1_accuracy: 0.7365WARNING:tensorflow:Can save best model only with val_acc available, skipping.\n",
      "93/92 [==============================] - 777s 8s/step - loss: 0.5123 - accuracy: 0.7365 - top_1_accuracy: 0.7365 - val_loss: 0.4721 - val_accuracy: 0.7605 - val_top_1_accuracy: 0.7605\n",
      "Epoch 4/50\n",
      "93/92 [==============================] - ETA: 0s - loss: 0.4862 - accuracy: 0.7497 - top_1_accuracy: 0.7497WARNING:tensorflow:Can save best model only with val_acc available, skipping.\n",
      "93/92 [==============================] - 780s 8s/step - loss: 0.4862 - accuracy: 0.7497 - top_1_accuracy: 0.7497 - val_loss: 0.4565 - val_accuracy: 0.7884 - val_top_1_accuracy: 0.7884\n",
      "Epoch 5/50\n",
      "93/92 [==============================] - ETA: 0s - loss: 0.4724 - accuracy: 0.7675 - top_1_accuracy: 0.7675WARNING:tensorflow:Can save best model only with val_acc available, skipping.\n",
      "93/92 [==============================] - 781s 8s/step - loss: 0.4724 - accuracy: 0.7675 - top_1_accuracy: 0.7675 - val_loss: 0.4455 - val_accuracy: 0.7892 - val_top_1_accuracy: 0.7892\n",
      "Epoch 6/50\n",
      "93/92 [==============================] - ETA: 0s - loss: 0.4491 - accuracy: 0.7812 - top_1_accuracy: 0.7812WARNING:tensorflow:Can save best model only with val_acc available, skipping.\n",
      "93/92 [==============================] - 786s 8s/step - loss: 0.4491 - accuracy: 0.7812 - top_1_accuracy: 0.7812 - val_loss: 0.4360 - val_accuracy: 0.7990 - val_top_1_accuracy: 0.7990\n",
      "Epoch 7/50\n",
      "93/92 [==============================] - ETA: 0s - loss: 0.4326 - accuracy: 0.7896 - top_1_accuracy: 0.7896WARNING:tensorflow:Can save best model only with val_acc available, skipping.\n",
      "93/92 [==============================] - 783s 8s/step - loss: 0.4326 - accuracy: 0.7896 - top_1_accuracy: 0.7896 - val_loss: 0.4412 - val_accuracy: 0.7801 - val_top_1_accuracy: 0.7801\n",
      "Epoch 8/50\n",
      "93/92 [==============================] - ETA: 0s - loss: 0.4266 - accuracy: 0.7957 - top_1_accuracy: 0.7957WARNING:tensorflow:Can save best model only with val_acc available, skipping.\n",
      "93/92 [==============================] - 780s 8s/step - loss: 0.4266 - accuracy: 0.7957 - top_1_accuracy: 0.7957 - val_loss: 0.4137 - val_accuracy: 0.8023 - val_top_1_accuracy: 0.8023\n",
      "Epoch 9/50\n",
      "93/92 [==============================] - ETA: 0s - loss: 0.4068 - accuracy: 0.8041 - top_1_accuracy: 0.8041WARNING:tensorflow:Can save best model only with val_acc available, skipping.\n",
      "93/92 [==============================] - 779s 8s/step - loss: 0.4068 - accuracy: 0.8041 - top_1_accuracy: 0.8041 - val_loss: 0.4077 - val_accuracy: 0.8105 - val_top_1_accuracy: 0.8105\n",
      "Epoch 10/50\n",
      "93/92 [==============================] - ETA: 0s - loss: 0.4034 - accuracy: 0.8122 - top_1_accuracy: 0.8122WARNING:tensorflow:Can save best model only with val_acc available, skipping.\n",
      "93/92 [==============================] - 779s 8s/step - loss: 0.4034 - accuracy: 0.8122 - top_1_accuracy: 0.8122 - val_loss: 0.4056 - val_accuracy: 0.8130 - val_top_1_accuracy: 0.8130\n",
      "Epoch 11/50\n",
      "93/92 [==============================] - ETA: 0s - loss: 0.3951 - accuracy: 0.8089 - top_1_accuracy: 0.8089WARNING:tensorflow:Can save best model only with val_acc available, skipping.\n",
      "93/92 [==============================] - 778s 8s/step - loss: 0.3951 - accuracy: 0.8089 - top_1_accuracy: 0.8089 - val_loss: 0.4108 - val_accuracy: 0.8015 - val_top_1_accuracy: 0.8015\n",
      "Epoch 12/50\n",
      "93/92 [==============================] - ETA: 0s - loss: 0.3856 - accuracy: 0.8243 - top_1_accuracy: 0.8243WARNING:tensorflow:Can save best model only with val_acc available, skipping.\n",
      "93/92 [==============================] - 777s 8s/step - loss: 0.3856 - accuracy: 0.8243 - top_1_accuracy: 0.8243 - val_loss: 0.4064 - val_accuracy: 0.8187 - val_top_1_accuracy: 0.8187\n",
      "Epoch 13/50\n",
      "93/92 [==============================] - ETA: 0s - loss: 0.3783 - accuracy: 0.8210 - top_1_accuracy: 0.8210WARNING:tensorflow:Can save best model only with val_acc available, skipping.\n",
      "93/92 [==============================] - 776s 8s/step - loss: 0.3783 - accuracy: 0.8210 - top_1_accuracy: 0.8210 - val_loss: 0.3906 - val_accuracy: 0.8130 - val_top_1_accuracy: 0.8130\n",
      "Epoch 14/50\n",
      "93/92 [==============================] - ETA: 0s - loss: 0.3662 - accuracy: 0.8259 - top_1_accuracy: 0.8259WARNING:tensorflow:Can save best model only with val_acc available, skipping.\n",
      "93/92 [==============================] - 778s 8s/step - loss: 0.3662 - accuracy: 0.8259 - top_1_accuracy: 0.8259 - val_loss: 0.3862 - val_accuracy: 0.8302 - val_top_1_accuracy: 0.8302\n",
      "Epoch 15/50\n",
      "93/92 [==============================] - ETA: 0s - loss: 0.3609 - accuracy: 0.8302 - top_1_accuracy: 0.8302WARNING:tensorflow:Can save best model only with val_acc available, skipping.\n",
      "93/92 [==============================] - 775s 8s/step - loss: 0.3609 - accuracy: 0.8302 - top_1_accuracy: 0.8302 - val_loss: 0.3799 - val_accuracy: 0.8261 - val_top_1_accuracy: 0.8261\n",
      "Epoch 16/50\n",
      "93/92 [==============================] - ETA: 0s - loss: 0.3544 - accuracy: 0.8340 - top_1_accuracy: 0.8340WARNING:tensorflow:Can save best model only with val_acc available, skipping.\n",
      "93/92 [==============================] - 775s 8s/step - loss: 0.3544 - accuracy: 0.8340 - top_1_accuracy: 0.8340 - val_loss: 0.3781 - val_accuracy: 0.8253 - val_top_1_accuracy: 0.8253\n",
      "Epoch 17/50\n",
      "93/92 [==============================] - ETA: 0s - loss: 0.3454 - accuracy: 0.8353 - top_1_accuracy: 0.8353WARNING:tensorflow:Can save best model only with val_acc available, skipping.\n",
      "93/92 [==============================] - 764s 8s/step - loss: 0.3454 - accuracy: 0.8353 - top_1_accuracy: 0.8353 - val_loss: 0.4307 - val_accuracy: 0.7900 - val_top_1_accuracy: 0.7900\n",
      "Epoch 18/50\n",
      "93/92 [==============================] - ETA: 0s - loss: 0.3477 - accuracy: 0.8391 - top_1_accuracy: 0.8391WARNING:tensorflow:Can save best model only with val_acc available, skipping.\n",
      "93/92 [==============================] - 775s 8s/step - loss: 0.3477 - accuracy: 0.8391 - top_1_accuracy: 0.8391 - val_loss: 0.3703 - val_accuracy: 0.8285 - val_top_1_accuracy: 0.8285\n",
      "Epoch 19/50\n",
      "93/92 [==============================] - ETA: 0s - loss: 0.3297 - accuracy: 0.8455 - top_1_accuracy: 0.8455WARNING:tensorflow:Can save best model only with val_acc available, skipping.\n",
      "93/92 [==============================] - 788s 8s/step - loss: 0.3297 - accuracy: 0.8455 - top_1_accuracy: 0.8455 - val_loss: 0.3804 - val_accuracy: 0.8244 - val_top_1_accuracy: 0.8244\n",
      "Epoch 20/50\n",
      "93/92 [==============================] - ETA: 0s - loss: 0.3272 - accuracy: 0.8453 - top_1_accuracy: 0.8453WARNING:tensorflow:Can save best model only with val_acc available, skipping.\n",
      "93/92 [==============================] - 799s 9s/step - loss: 0.3272 - accuracy: 0.8453 - top_1_accuracy: 0.8453 - val_loss: 0.3837 - val_accuracy: 0.8244 - val_top_1_accuracy: 0.8244\n",
      "Epoch 21/50\n",
      "93/92 [==============================] - ETA: 0s - loss: 0.3206 - accuracy: 0.8525 - top_1_accuracy: 0.8525WARNING:tensorflow:Can save best model only with val_acc available, skipping.\n",
      "93/92 [==============================] - 802s 9s/step - loss: 0.3206 - accuracy: 0.8525 - top_1_accuracy: 0.8525 - val_loss: 0.3811 - val_accuracy: 0.8253 - val_top_1_accuracy: 0.8253\n"
     ]
    },
    {
     "name": "stdout",
     "output_type": "stream",
     "text": [
      "Epoch 22/50\n",
      "93/92 [==============================] - ETA: 0s - loss: 0.3217 - accuracy: 0.8477 - top_1_accuracy: 0.8477WARNING:tensorflow:Can save best model only with val_acc available, skipping.\n",
      "93/92 [==============================] - 805s 9s/step - loss: 0.3217 - accuracy: 0.8477 - top_1_accuracy: 0.8477 - val_loss: 0.4062 - val_accuracy: 0.8080 - val_top_1_accuracy: 0.8080\n",
      "Epoch 23/50\n",
      "93/92 [==============================] - ETA: 0s - loss: 0.3135 - accuracy: 0.8636 - top_1_accuracy: 0.8636WARNING:tensorflow:Can save best model only with val_acc available, skipping.\n",
      "93/92 [==============================] - 788s 8s/step - loss: 0.3135 - accuracy: 0.8636 - top_1_accuracy: 0.8636 - val_loss: 0.3698 - val_accuracy: 0.8318 - val_top_1_accuracy: 0.8318\n",
      "Epoch 24/50\n",
      "93/92 [==============================] - ETA: 0s - loss: 0.3006 - accuracy: 0.8679 - top_1_accuracy: 0.8679WARNING:tensorflow:Can save best model only with val_acc available, skipping.\n",
      "93/92 [==============================] - 779s 8s/step - loss: 0.3006 - accuracy: 0.8679 - top_1_accuracy: 0.8679 - val_loss: 0.3615 - val_accuracy: 0.8409 - val_top_1_accuracy: 0.8409\n",
      "Epoch 25/50\n",
      "93/92 [==============================] - ETA: 0s - loss: 0.3005 - accuracy: 0.8625 - top_1_accuracy: 0.8625WARNING:tensorflow:Can save best model only with val_acc available, skipping.\n",
      "93/92 [==============================] - 776s 8s/step - loss: 0.3005 - accuracy: 0.8625 - top_1_accuracy: 0.8625 - val_loss: 0.3706 - val_accuracy: 0.8343 - val_top_1_accuracy: 0.8343\n",
      "Epoch 26/50\n",
      "93/92 [==============================] - ETA: 0s - loss: 0.3027 - accuracy: 0.8654 - top_1_accuracy: 0.8654WARNING:tensorflow:Can save best model only with val_acc available, skipping.\n",
      "93/92 [==============================] - 775s 8s/step - loss: 0.3027 - accuracy: 0.8654 - top_1_accuracy: 0.8654 - val_loss: 0.3594 - val_accuracy: 0.8359 - val_top_1_accuracy: 0.8359\n",
      "Epoch 27/50\n",
      "93/92 [==============================] - ETA: 0s - loss: 0.3020 - accuracy: 0.8681 - top_1_accuracy: 0.8681WARNING:tensorflow:Can save best model only with val_acc available, skipping.\n",
      "93/92 [==============================] - 825s 9s/step - loss: 0.3020 - accuracy: 0.8681 - top_1_accuracy: 0.8681 - val_loss: 0.3621 - val_accuracy: 0.8409 - val_top_1_accuracy: 0.8409\n",
      "Epoch 28/50\n",
      "93/92 [==============================] - ETA: 0s - loss: 0.2948 - accuracy: 0.8681 - top_1_accuracy: 0.8681WARNING:tensorflow:Can save best model only with val_acc available, skipping.\n",
      "93/92 [==============================] - 784s 8s/step - loss: 0.2948 - accuracy: 0.8681 - top_1_accuracy: 0.8681 - val_loss: 0.3581 - val_accuracy: 0.8441 - val_top_1_accuracy: 0.8441\n",
      "Epoch 29/50\n",
      "93/92 [==============================] - ETA: 0s - loss: 0.2887 - accuracy: 0.8735 - top_1_accuracy: 0.8735WARNING:tensorflow:Can save best model only with val_acc available, skipping.\n",
      "93/92 [==============================] - 778s 8s/step - loss: 0.2887 - accuracy: 0.8735 - top_1_accuracy: 0.8735 - val_loss: 0.3538 - val_accuracy: 0.8425 - val_top_1_accuracy: 0.8425\n",
      "Epoch 30/50\n",
      "93/92 [==============================] - ETA: 0s - loss: 0.2776 - accuracy: 0.8759 - top_1_accuracy: 0.8759WARNING:tensorflow:Can save best model only with val_acc available, skipping.\n",
      "93/92 [==============================] - 790s 8s/step - loss: 0.2776 - accuracy: 0.8759 - top_1_accuracy: 0.8759 - val_loss: 0.3504 - val_accuracy: 0.8450 - val_top_1_accuracy: 0.8450\n",
      "Epoch 31/50\n",
      "93/92 [==============================] - ETA: 0s - loss: 0.2803 - accuracy: 0.8741 - top_1_accuracy: 0.8741WARNING:tensorflow:Can save best model only with val_acc available, skipping.\n",
      "93/92 [==============================] - 799s 9s/step - loss: 0.2803 - accuracy: 0.8741 - top_1_accuracy: 0.8741 - val_loss: 0.3478 - val_accuracy: 0.8474 - val_top_1_accuracy: 0.8474\n",
      "Epoch 32/50\n",
      "93/92 [==============================] - ETA: 0s - loss: 0.2775 - accuracy: 0.8789 - top_1_accuracy: 0.8789WARNING:tensorflow:Can save best model only with val_acc available, skipping.\n",
      "93/92 [==============================] - 804s 9s/step - loss: 0.2775 - accuracy: 0.8789 - top_1_accuracy: 0.8789 - val_loss: 0.3503 - val_accuracy: 0.8474 - val_top_1_accuracy: 0.8474\n",
      "Epoch 33/50\n",
      "93/92 [==============================] - ETA: 0s - loss: 0.2694 - accuracy: 0.8805 - top_1_accuracy: 0.8805WARNING:tensorflow:Can save best model only with val_acc available, skipping.\n",
      "93/92 [==============================] - 803s 9s/step - loss: 0.2694 - accuracy: 0.8805 - top_1_accuracy: 0.8805 - val_loss: 0.3563 - val_accuracy: 0.8441 - val_top_1_accuracy: 0.8441\n",
      "Epoch 34/50\n",
      "93/92 [==============================] - ETA: 0s - loss: 0.2616 - accuracy: 0.8864 - top_1_accuracy: 0.8864WARNING:tensorflow:Can save best model only with val_acc available, skipping.\n",
      "93/92 [==============================] - 807s 9s/step - loss: 0.2616 - accuracy: 0.8864 - top_1_accuracy: 0.8864 - val_loss: 0.3539 - val_accuracy: 0.8458 - val_top_1_accuracy: 0.8458\n",
      "Epoch 35/50\n",
      "93/92 [==============================] - ETA: 0s - loss: 0.2600 - accuracy: 0.8891 - top_1_accuracy: 0.8891WARNING:tensorflow:Can save best model only with val_acc available, skipping.\n",
      "93/92 [==============================] - 802s 9s/step - loss: 0.2600 - accuracy: 0.8891 - top_1_accuracy: 0.8891 - val_loss: 0.3560 - val_accuracy: 0.8466 - val_top_1_accuracy: 0.8466\n",
      "Epoch 36/50\n",
      "93/92 [==============================] - ETA: 0s - loss: 0.2513 - accuracy: 0.8916 - top_1_accuracy: 0.8916WARNING:tensorflow:Can save best model only with val_acc available, skipping.\n",
      "93/92 [==============================] - 786s 8s/step - loss: 0.2513 - accuracy: 0.8916 - top_1_accuracy: 0.8916 - val_loss: 0.3599 - val_accuracy: 0.8482 - val_top_1_accuracy: 0.8482\n",
      "Epoch 37/50\n",
      "93/92 [==============================] - ETA: 0s - loss: 0.2455 - accuracy: 0.8961 - top_1_accuracy: 0.8961WARNING:tensorflow:Can save best model only with val_acc available, skipping.\n",
      "93/92 [==============================] - 780s 8s/step - loss: 0.2455 - accuracy: 0.8961 - top_1_accuracy: 0.8961 - val_loss: 0.3573 - val_accuracy: 0.8507 - val_top_1_accuracy: 0.8507\n",
      "Epoch 38/50\n",
      "93/92 [==============================] - ETA: 0s - loss: 0.2524 - accuracy: 0.8934 - top_1_accuracy: 0.8934WARNING:tensorflow:Can save best model only with val_acc available, skipping.\n",
      "93/92 [==============================] - 780s 8s/step - loss: 0.2524 - accuracy: 0.8934 - top_1_accuracy: 0.8934 - val_loss: 0.3570 - val_accuracy: 0.8458 - val_top_1_accuracy: 0.8458\n",
      "Epoch 39/50\n",
      "93/92 [==============================] - ETA: 0s - loss: 0.2403 - accuracy: 0.8964 - top_1_accuracy: 0.8964WARNING:tensorflow:Can save best model only with val_acc available, skipping.\n",
      "93/92 [==============================] - 778s 8s/step - loss: 0.2403 - accuracy: 0.8964 - top_1_accuracy: 0.8964 - val_loss: 0.3775 - val_accuracy: 0.8409 - val_top_1_accuracy: 0.8409\n",
      "Epoch 40/50\n",
      "93/92 [==============================] - ETA: 0s - loss: 0.2593 - accuracy: 0.8854 - top_1_accuracy: 0.8854WARNING:tensorflow:Can save best model only with val_acc available, skipping.\n",
      "93/92 [==============================] - 778s 8s/step - loss: 0.2593 - accuracy: 0.8854 - top_1_accuracy: 0.8854 - val_loss: 0.3607 - val_accuracy: 0.8326 - val_top_1_accuracy: 0.8326\n",
      "Epoch 41/50\n",
      "93/92 [==============================] - ETA: 0s - loss: 0.2417 - accuracy: 0.8953 - top_1_accuracy: 0.8953WARNING:tensorflow:Can save best model only with val_acc available, skipping.\n",
      "93/92 [==============================] - 776s 8s/step - loss: 0.2417 - accuracy: 0.8953 - top_1_accuracy: 0.8953 - val_loss: 0.3477 - val_accuracy: 0.8515 - val_top_1_accuracy: 0.8515\n",
      "Epoch 42/50\n",
      "93/92 [==============================] - ETA: 0s - loss: 0.2428 - accuracy: 0.8956 - top_1_accuracy: 0.8956WARNING:tensorflow:Can save best model only with val_acc available, skipping.\n",
      "93/92 [==============================] - 776s 8s/step - loss: 0.2428 - accuracy: 0.8956 - top_1_accuracy: 0.8956 - val_loss: 0.3513 - val_accuracy: 0.8556 - val_top_1_accuracy: 0.8556\n",
      "Epoch 43/50\n",
      "93/92 [==============================] - ETA: 0s - loss: 0.2333 - accuracy: 0.9037 - top_1_accuracy: 0.9037WARNING:tensorflow:Can save best model only with val_acc available, skipping.\n"
     ]
    },
    {
     "name": "stdout",
     "output_type": "stream",
     "text": [
      "93/92 [==============================] - 777s 8s/step - loss: 0.2333 - accuracy: 0.9037 - top_1_accuracy: 0.9037 - val_loss: 0.3584 - val_accuracy: 0.8450 - val_top_1_accuracy: 0.8450\n",
      "Epoch 44/50\n",
      "93/92 [==============================] - ETA: 0s - loss: 0.2367 - accuracy: 0.8967 - top_1_accuracy: 0.8967WARNING:tensorflow:Can save best model only with val_acc available, skipping.\n",
      "93/92 [==============================] - 782s 8s/step - loss: 0.2367 - accuracy: 0.8967 - top_1_accuracy: 0.8967 - val_loss: 0.3490 - val_accuracy: 0.8515 - val_top_1_accuracy: 0.8515\n",
      "Epoch 45/50\n",
      "93/92 [==============================] - ETA: 0s - loss: 0.2160 - accuracy: 0.9117 - top_1_accuracy: 0.9117WARNING:tensorflow:Can save best model only with val_acc available, skipping.\n",
      "93/92 [==============================] - 796s 9s/step - loss: 0.2160 - accuracy: 0.9117 - top_1_accuracy: 0.9117 - val_loss: 0.3517 - val_accuracy: 0.8564 - val_top_1_accuracy: 0.8564\n",
      "Epoch 46/50\n",
      "93/92 [==============================] - ETA: 0s - loss: 0.2152 - accuracy: 0.9136 - top_1_accuracy: 0.9136WARNING:tensorflow:Can save best model only with val_acc available, skipping.\n",
      "93/92 [==============================] - 814s 9s/step - loss: 0.2152 - accuracy: 0.9136 - top_1_accuracy: 0.9136 - val_loss: 0.3521 - val_accuracy: 0.8532 - val_top_1_accuracy: 0.8532\n",
      "Epoch 47/50\n",
      "93/92 [==============================] - ETA: 0s - loss: 0.2062 - accuracy: 0.9179 - top_1_accuracy: 0.9179WARNING:tensorflow:Can save best model only with val_acc available, skipping.\n",
      "93/92 [==============================] - 805s 9s/step - loss: 0.2062 - accuracy: 0.9179 - top_1_accuracy: 0.9179 - val_loss: 0.4146 - val_accuracy: 0.8097 - val_top_1_accuracy: 0.8097\n",
      "Epoch 48/50\n",
      "93/92 [==============================] - ETA: 0s - loss: 0.2122 - accuracy: 0.9093 - top_1_accuracy: 0.9093WARNING:tensorflow:Can save best model only with val_acc available, skipping.\n",
      "93/92 [==============================] - 806s 9s/step - loss: 0.2122 - accuracy: 0.9093 - top_1_accuracy: 0.9093 - val_loss: 0.3560 - val_accuracy: 0.8548 - val_top_1_accuracy: 0.8548\n",
      "Epoch 49/50\n",
      "93/92 [==============================] - ETA: 0s - loss: 0.2068 - accuracy: 0.9152 - top_1_accuracy: 0.9152WARNING:tensorflow:Can save best model only with val_acc available, skipping.\n",
      "93/92 [==============================] - 810s 9s/step - loss: 0.2068 - accuracy: 0.9152 - top_1_accuracy: 0.9152 - val_loss: 0.3631 - val_accuracy: 0.8441 - val_top_1_accuracy: 0.8441\n",
      "Epoch 50/50\n",
      "93/92 [==============================] - ETA: 0s - loss: 0.1930 - accuracy: 0.9233 - top_1_accuracy: 0.9233WARNING:tensorflow:Can save best model only with val_acc available, skipping.\n",
      "93/92 [==============================] - 809s 9s/step - loss: 0.1930 - accuracy: 0.9233 - top_1_accuracy: 0.9233 - val_loss: 0.3811 - val_accuracy: 0.8491 - val_top_1_accuracy: 0.8491\n"
     ]
    },
    {
     "data": {
      "text/plain": [
       "<tensorflow.python.keras.callbacks.History at 0x7fa5f10ef090>"
      ]
     },
     "execution_count": 9,
     "metadata": {},
     "output_type": "execute_result"
    }
   ],
   "source": [
    "from keras.callbacks import ModelCheckpoint, TensorBoard\n",
    "from time import time\n",
    "\n",
    "tensorboard = TensorBoard(log_dir=\"logs/layers_frozen_{}\".format(num_layers_to_freeze))\n",
    "\n",
    "# checkpoint\n",
    "filepath=\"esc50_vgg16_stft_weights_train_last_2_base_layers.best.hdf5\"\n",
    "best_model_checkpoint = ModelCheckpoint(filepath, monitor='val_acc', verbose=1, save_best_only=True, mode='max')\n",
    "callbacks_list = [best_model_checkpoint, tensorboard]\n",
    "\n",
    "# parallel_model.fit_generator(\n",
    "#     training_generator,\n",
    "#     steps_per_epoch=nb_training_samples/batch_size,\n",
    "#     epochs=epochs,\n",
    "#     validation_data=validation_generator,\n",
    "#     validation_steps=nb_validation_samples/batch_size,\n",
    "#     callbacks=callbacks_list)\n",
    "\n",
    "model.fit_generator(\n",
    "    training_generator,\n",
    "    steps_per_epoch=nb_training_samples/batch_size,\n",
    "    epochs=epochs,\n",
    "    validation_data=validation_generator,\n",
    "    validation_steps=nb_validation_samples/batch_size,\n",
    "    callbacks=callbacks_list)\n",
    "# parallel_model.fit_generator(\n",
    "#     training_generator,\n",
    "#     samples_per_epoch=nb_training_samples,\n",
    "#     epochs=epochs,\n",
    "#     validation_data=validation_generator,\n",
    "#     validation_steps=nb_validation_samples/batch_size,)\n",
    "#     nb_val_samples=nb_validation_samples)"
   ]
  },
  {
   "cell_type": "markdown",
   "metadata": {},
   "source": [
    "# Get top k predictions for selected test files"
   ]
  },
  {
   "cell_type": "code",
   "execution_count": 10,
   "metadata": {},
   "outputs": [],
   "source": [
    "def get_top_k_predictions(preds, label_map, k=1, print_flag=False):\n",
    "    sorted_array = np.argsort(preds)[::-1]\n",
    "    top_k = sorted_array[:k]\n",
    "    label_map_flip = dict((v,k) for k,v in label_map.items())\n",
    "    \n",
    "    y_pred = []\n",
    "    for label_index in top_k:\n",
    "        if print_flag:\n",
    "            print (\"{} ({})\".format(label_map_flip[label_index], preds[label_index]))\n",
    "        y_pred.append(label_map_flip[label_index])\n",
    "        \n",
    "    return y_pred"
   ]
  },
  {
   "cell_type": "code",
   "execution_count": 11,
   "metadata": {},
   "outputs": [
    {
     "data": {
      "text/plain": [
       "['sick', 'not_sick']"
      ]
     },
     "execution_count": 11,
     "metadata": {},
     "output_type": "execute_result"
    }
   ],
   "source": [
    "label_map = (training_generator.class_indices)\n",
    " \n",
    "json2 = json.dumps(label_map)\n",
    "f = open(\"cough_label_map.json\",\"w\")\n",
    "f.write(json2)\n",
    "f.close()\n",
    "\n",
    "img_path = '/Users/xt/Desktop/OSF/continuous_wavelet_transform/test/sick/audioset__3RvCwwIZ4w_10_15.jpg'\n",
    "img = image.load_img(img_path, target_size=(224, 224))\n",
    "x = image.img_to_array(img)\n",
    "x = np.expand_dims(x, axis=0)* 1./255\n",
    "\n",
    "preds = model.predict(x)[0]\n",
    "\n",
    "get_top_k_predictions(preds, label_map, k=1)"
   ]
  },
  {
   "cell_type": "markdown",
   "metadata": {},
   "source": [
    "# Calculate and plot confusion matrix"
   ]
  },
  {
   "cell_type": "code",
   "execution_count": 12,
   "metadata": {},
   "outputs": [],
   "source": [
    "import itertools\n",
    "import matplotlib.pyplot as plt\n",
    "def plot_confusion_matrix(cm, classes,\n",
    "                          normalize=False,\n",
    "                          title='Confusion matrix',\n",
    "                          cmap=plt.cm.Blues):\n",
    "    \"\"\"\n",
    "    This function prints and plots the confusion matrix.\n",
    "    Normalization can be applied by setting `normalize=True`.\n",
    "    \"\"\"\n",
    "    if normalize:\n",
    "        cm = cm.astype('float') / cm.sum(axis=1)[:, np.newaxis]\n",
    "        print(\"Normalized confusion matrix\")\n",
    "    else:\n",
    "        print('Confusion matrix, without normalization')\n",
    "\n",
    "#     print(cm)\n",
    "    plt.figure(figsize=(24,24))\n",
    "    plt.imshow(cm, interpolation='nearest', cmap=cmap)\n",
    "    plt.title(title)\n",
    "    plt.colorbar()\n",
    "    tick_marks = np.arange(len(classes))\n",
    "    plt.xticks(tick_marks, classes, rotation=90)\n",
    "    plt.yticks(tick_marks, classes)\n",
    "\n",
    "    fmt = '.2f' if normalize else 'd'\n",
    "    thresh = cm.max() / 2.\n",
    "    for i, j in itertools.product(range(cm.shape[0]), range(cm.shape[1])):\n",
    "        plt.text(j, i, format(cm[i, j], fmt),\n",
    "                 horizontalalignment=\"center\",\n",
    "                 color=\"white\" if cm[i, j] > thresh else \"black\")\n",
    "\n",
    "    plt.tight_layout()\n",
    "    plt.ylabel('True label')\n",
    "    plt.xlabel('Predicted label')\n",
    "    "
   ]
  },
  {
   "cell_type": "code",
   "execution_count": 13,
   "metadata": {},
   "outputs": [
    {
     "name": "stdout",
     "output_type": "stream",
     "text": [
      "Normalized confusion matrix\n"
     ]
    },
    {
     "data": {
      "image/png": "[encoded data removed]",
      "text/plain": [
       "<Figure size 1728x1728 with 2 Axes>"
      ]
     },
     "metadata": {
      "needs_background": "light"
     },
     "output_type": "display_data"
    }
   ],
   "source": [
    "import os\n",
    "import io\n",
    "import requests\n",
    "import urllib.request\n",
    "from PIL import Image\n",
    "from keras.preprocessing import image\n",
    "from sklearn.metrics import confusion_matrix\n",
    "\n",
    "testing_dir = '/Users/xt/Desktop/OSF/continuous_wavelet_transform/test/'\n",
    "\n",
    "y_true = []\n",
    "y_pred = []\n",
    "for label in label_map.keys():\n",
    "    file_list = os.listdir(testing_dir + label)\n",
    "    for file_name in file_list:\n",
    "        if file_name != '.DS_Store':\n",
    "            img_path = testing_dir + label + '/' + file_name\n",
    "            img = image.load_img(img_path, target_size=(224, 224))\n",
    "            \n",
    "            x = image.img_to_array(img)\n",
    "            x = np.expand_dims(x, axis=0)* 1./255\n",
    "            \n",
    "            preds = model.predict(x)[0]\n",
    "            \n",
    "            y_true.append(label)\n",
    "            y_pred.append(get_top_k_predictions(preds, label_map, k=1)[0])\n",
    "        \n",
    "cm = confusion_matrix(y_true, y_pred)\n",
    "plot_confusion_matrix(cm, sorted(label_map.keys()), normalize=True)"
   ]
  },
  {
   "cell_type": "code",
   "execution_count": null,
   "metadata": {},
   "outputs": [],
   "source": []
  }
 ],
 "metadata": {
  "kernelspec": {
   "display_name": "Python 3",
   "language": "python",
   "name": "python3"
  },
  "language_info": {
   "codemirror_mode": {
    "name": "ipython",
    "version": 3
   },
   "file_extension": ".py",
   "mimetype": "text/x-python",
   "name": "python",
   "nbconvert_exporter": "python",
   "pygments_lexer": "ipython3",
   "version": "3.7.6"
  }
 },
 "nbformat": 4,
 "nbformat_minor": 2
}
