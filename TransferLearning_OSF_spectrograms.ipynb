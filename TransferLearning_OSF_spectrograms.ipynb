{
 "cells": [
  {
   "cell_type": "markdown",
   "metadata": {},
   "source": [
    "### Audio Event Classifier with Deep Learning\n",
    "\n",
    "Build a CNN sound classifier using spectograms from OSF data."
   ]
  },
  {
   "cell_type": "code",
   "execution_count": 1,
   "metadata": {},
   "outputs": [],
   "source": [
    "%matplotlib inline\n",
    "from keras.applications.vgg16 import VGG16, preprocess_input\n",
    "from keras.preprocessing import image\n",
    "from keras.models import Sequential, Model\n",
    "from keras.layers import Dense, Dropout, Flatten, Input\n",
    "from keras.applications.vgg16 import preprocess_input\n",
    "from keras.utils import multi_gpu_model\n",
    "import numpy as np\n",
    "import json\n",
    "import PIL"
   ]
  },
  {
   "cell_type": "markdown",
   "metadata": {},
   "source": [
    "# Set parameter values"
   ]
  },
  {
   "cell_type": "code",
   "execution_count": 2,
   "metadata": {},
   "outputs": [],
   "source": [
    "batch_size = 40\n",
    "epochs = 50\n",
    "\n",
    "# dimensions of our images.\n",
    "img_width, img_height = 224, 224\n",
    "\n",
    "input_tensor = Input(shape=(224,224,3))\n",
    "\n",
    "nb_training_samples = 3716\n",
    "nb_validation_samples = 1219# Set parameter values"
   ]
  },
  {
   "cell_type": "markdown",
   "metadata": {},
   "source": [
    "# Configure training and validation data generators\n",
    "\n",
    "Provide paths to training and testing set directores"
   ]
  },
  {
   "cell_type": "code",
   "execution_count": 3,
   "metadata": {},
   "outputs": [
    {
     "name": "stdout",
     "output_type": "stream",
     "text": [
      "Found 3716 images belonging to 2 classes.\n",
      "Found 1219 images belonging to 2 classes.\n"
     ]
    }
   ],
   "source": [
    "# training generator configuration\n",
    "training_data_dir = '/Users/xt/Desktop/OSF/spectrograms/train/'\n",
    "\n",
    "training_datagen = image.ImageDataGenerator(\n",
    "    rescale=1./255)\n",
    "\n",
    "training_generator = training_datagen.flow_from_directory(\n",
    "    training_data_dir,\n",
    "    target_size=(img_height, img_width),\n",
    "    batch_size=batch_size)\n",
    "\n",
    "# validation generator configuration\n",
    "validation_data_dir ='/Users/xt/Desktop/OSF/spectrograms/validation/'\n",
    "\n",
    "validation_datagen = image.ImageDataGenerator(\n",
    "    rescale=1./255)\n",
    "\n",
    "validation_generator = validation_datagen.flow_from_directory(\n",
    "    validation_data_dir,\n",
    "    target_size=(img_height, img_width),\n",
    "    batch_size=batch_size)"
   ]
  },
  {
   "cell_type": "markdown",
   "metadata": {},
   "source": [
    "# Load base model"
   ]
  },
  {
   "cell_type": "code",
   "execution_count": 4,
   "metadata": {},
   "outputs": [
    {
     "name": "stdout",
     "output_type": "stream",
     "text": [
      "Model loaded.\n",
      "Model: \"vgg16\"\n",
      "_________________________________________________________________\n",
      "Layer (type)                 Output Shape              Param #   \n",
      "=================================================================\n",
      "input_1 (InputLayer)         [(None, 224, 224, 3)]     0         \n",
      "_________________________________________________________________\n",
      "block1_conv1 (Conv2D)        (None, 224, 224, 64)      1792      \n",
      "_________________________________________________________________\n",
      "block1_conv2 (Conv2D)        (None, 224, 224, 64)      36928     \n",
      "_________________________________________________________________\n",
      "block1_pool (MaxPooling2D)   (None, 112, 112, 64)      0         \n",
      "_________________________________________________________________\n",
      "block2_conv1 (Conv2D)        (None, 112, 112, 128)     73856     \n",
      "_________________________________________________________________\n",
      "block2_conv2 (Conv2D)        (None, 112, 112, 128)     147584    \n",
      "_________________________________________________________________\n",
      "block2_pool (MaxPooling2D)   (None, 56, 56, 128)       0         \n",
      "_________________________________________________________________\n",
      "block3_conv1 (Conv2D)        (None, 56, 56, 256)       295168    \n",
      "_________________________________________________________________\n",
      "block3_conv2 (Conv2D)        (None, 56, 56, 256)       590080    \n",
      "_________________________________________________________________\n",
      "block3_conv3 (Conv2D)        (None, 56, 56, 256)       590080    \n",
      "_________________________________________________________________\n",
      "block3_pool (MaxPooling2D)   (None, 28, 28, 256)       0         \n",
      "_________________________________________________________________\n",
      "block4_conv1 (Conv2D)        (None, 28, 28, 512)       1180160   \n",
      "_________________________________________________________________\n",
      "block4_conv2 (Conv2D)        (None, 28, 28, 512)       2359808   \n",
      "_________________________________________________________________\n",
      "block4_conv3 (Conv2D)        (None, 28, 28, 512)       2359808   \n",
      "_________________________________________________________________\n",
      "block4_pool (MaxPooling2D)   (None, 14, 14, 512)       0         \n",
      "_________________________________________________________________\n",
      "block5_conv1 (Conv2D)        (None, 14, 14, 512)       2359808   \n",
      "_________________________________________________________________\n",
      "block5_conv2 (Conv2D)        (None, 14, 14, 512)       2359808   \n",
      "_________________________________________________________________\n",
      "block5_conv3 (Conv2D)        (None, 14, 14, 512)       2359808   \n",
      "_________________________________________________________________\n",
      "block5_pool (MaxPooling2D)   (None, 7, 7, 512)         0         \n",
      "=================================================================\n",
      "Total params: 14,714,688\n",
      "Trainable params: 14,714,688\n",
      "Non-trainable params: 0\n",
      "_________________________________________________________________\n"
     ]
    }
   ],
   "source": [
    "base_model = VGG16(weights='imagenet', include_top=False, input_tensor=input_tensor)\n",
    "print('Model loaded.')\n",
    "base_model.summary()"
   ]
  },
  {
   "cell_type": "markdown",
   "metadata": {},
   "source": [
    "# Build top model"
   ]
  },
  {
   "cell_type": "code",
   "execution_count": 5,
   "metadata": {},
   "outputs": [
    {
     "name": "stdout",
     "output_type": "stream",
     "text": [
      "Model: \"sequential\"\n",
      "_________________________________________________________________\n",
      "Layer (type)                 Output Shape              Param #   \n",
      "=================================================================\n",
      "flatten (Flatten)            (None, 25088)             0         \n",
      "_________________________________________________________________\n",
      "dense (Dense)                (None, 256)               6422784   \n",
      "_________________________________________________________________\n",
      "dropout (Dropout)            (None, 256)               0         \n",
      "_________________________________________________________________\n",
      "dense_1 (Dense)              (None, 2)                 514       \n",
      "=================================================================\n",
      "Total params: 6,423,298\n",
      "Trainable params: 6,423,298\n",
      "Non-trainable params: 0\n",
      "_________________________________________________________________\n"
     ]
    }
   ],
   "source": [
    "# build a classifier model to put on top of the convolutional model\n",
    "top_model = Sequential()\n",
    "top_model.add(Flatten(input_shape=base_model.output_shape[1:]))\n",
    "top_model.add(Dense(256, activation='relu'))\n",
    "top_model.add(Dropout(0.5))\n",
    "top_model.add(Dense(2, activation='softmax'))\n",
    "top_model.summary()"
   ]
  },
  {
   "cell_type": "markdown",
   "metadata": {},
   "source": [
    "# Combine base model with top model"
   ]
  },
  {
   "cell_type": "code",
   "execution_count": 6,
   "metadata": {},
   "outputs": [
    {
     "name": "stdout",
     "output_type": "stream",
     "text": [
      "Model: \"model\"\n",
      "_________________________________________________________________\n",
      "Layer (type)                 Output Shape              Param #   \n",
      "=================================================================\n",
      "input_1 (InputLayer)         [(None, 224, 224, 3)]     0         \n",
      "_________________________________________________________________\n",
      "block1_conv1 (Conv2D)        (None, 224, 224, 64)      1792      \n",
      "_________________________________________________________________\n",
      "block1_conv2 (Conv2D)        (None, 224, 224, 64)      36928     \n",
      "_________________________________________________________________\n",
      "block1_pool (MaxPooling2D)   (None, 112, 112, 64)      0         \n",
      "_________________________________________________________________\n",
      "block2_conv1 (Conv2D)        (None, 112, 112, 128)     73856     \n",
      "_________________________________________________________________\n",
      "block2_conv2 (Conv2D)        (None, 112, 112, 128)     147584    \n",
      "_________________________________________________________________\n",
      "block2_pool (MaxPooling2D)   (None, 56, 56, 128)       0         \n",
      "_________________________________________________________________\n",
      "block3_conv1 (Conv2D)        (None, 56, 56, 256)       295168    \n",
      "_________________________________________________________________\n",
      "block3_conv2 (Conv2D)        (None, 56, 56, 256)       590080    \n",
      "_________________________________________________________________\n",
      "block3_conv3 (Conv2D)        (None, 56, 56, 256)       590080    \n",
      "_________________________________________________________________\n",
      "block3_pool (MaxPooling2D)   (None, 28, 28, 256)       0         \n",
      "_________________________________________________________________\n",
      "block4_conv1 (Conv2D)        (None, 28, 28, 512)       1180160   \n",
      "_________________________________________________________________\n",
      "block4_conv2 (Conv2D)        (None, 28, 28, 512)       2359808   \n",
      "_________________________________________________________________\n",
      "block4_conv3 (Conv2D)        (None, 28, 28, 512)       2359808   \n",
      "_________________________________________________________________\n",
      "block4_pool (MaxPooling2D)   (None, 14, 14, 512)       0         \n",
      "_________________________________________________________________\n",
      "block5_conv1 (Conv2D)        (None, 14, 14, 512)       2359808   \n",
      "_________________________________________________________________\n",
      "block5_conv2 (Conv2D)        (None, 14, 14, 512)       2359808   \n",
      "_________________________________________________________________\n",
      "block5_conv3 (Conv2D)        (None, 14, 14, 512)       2359808   \n",
      "_________________________________________________________________\n",
      "block5_pool (MaxPooling2D)   (None, 7, 7, 512)         0         \n",
      "_________________________________________________________________\n",
      "sequential (Sequential)      (None, 2)                 6423298   \n",
      "=================================================================\n",
      "Total params: 21,137,986\n",
      "Trainable params: 21,137,986\n",
      "Non-trainable params: 0\n",
      "_________________________________________________________________\n"
     ]
    }
   ],
   "source": [
    "# top_model.load_weights('bootlneck_fc_model.h5')\n",
    "model = Model(inputs=base_model.input, outputs=top_model(base_model.output))\n",
    "model.summary()"
   ]
  },
  {
   "cell_type": "markdown",
   "metadata": {},
   "source": [
    "# Configure model training"
   ]
  },
  {
   "cell_type": "code",
   "execution_count": 7,
   "metadata": {},
   "outputs": [],
   "source": [
    "num_layers_to_freeze = 15"
   ]
  },
  {
   "cell_type": "code",
   "execution_count": 8,
   "metadata": {},
   "outputs": [],
   "source": [
    "from keras import metrics, optimizers\n",
    "\n",
    "def top_1_accuracy(y_true, y_pred):\n",
    "    return metrics.top_k_categorical_accuracy(y_true, y_pred, k=1)\n",
    "\n",
    "for layer in model.layers[:num_layers_to_freeze]:\n",
    "    layer.trainable = False\n",
    "\n",
    "# use nesterov accelrated gradient descent ??\n",
    "# optimizer=optimizers.SGD(lr=1e-4, momentum=0.9, decay=1e-6, nesterov=True)\n",
    "model.compile(optimizer=optimizers.SGD(lr=1e-4, momentum=0.9), \n",
    "                      loss='categorical_crossentropy', \n",
    "                      metrics=['accuracy', top_1_accuracy])\n",
    "\n",
    "# parallel_model.compile(optimizer=optimizers.SGD(lr=1e-4, momentum=0.9), \n",
    "#                       loss='categorical_crossentropy', \n",
    "#                       metrics=['accuracy', top_1_accuracy])\n",
    "\n",
    "# serialize model to JSON\n",
    "model_json = model.to_json()\n",
    "model_filename = \"vgg16_model_{}_frozen_layers.json\".format(num_layers_to_freeze)\n",
    "with open(model_filename, \"w\") as json_file:\n",
    "    json_file.write(model_json)"
   ]
  },
  {
   "cell_type": "markdown",
   "metadata": {},
   "source": [
    "# Fine-tune the model"
   ]
  },
  {
   "cell_type": "code",
   "execution_count": 9,
   "metadata": {
    "scrolled": false
   },
   "outputs": [
    {
     "name": "stdout",
     "output_type": "stream",
     "text": [
      "WARNING:tensorflow:From <ipython-input-9-8e097d1fe831>:25: Model.fit_generator (from tensorflow.python.keras.engine.training) is deprecated and will be removed in a future version.\n",
      "Instructions for updating:\n",
      "Please use Model.fit, which supports generators.\n",
      "Epoch 1/50\n",
      "93/92 [==============================] - ETA: 0s - loss: 0.6826 - accuracy: 0.5982 - top_1_accuracy: 0.5982WARNING:tensorflow:Can save best model only with val_acc available, skipping.\n",
      "93/92 [==============================] - 812s 9s/step - loss: 0.6826 - accuracy: 0.5982 - top_1_accuracy: 0.5982 - val_loss: 0.6001 - val_accuracy: 0.6710 - val_top_1_accuracy: 0.6710\n",
      "Epoch 2/50\n",
      "93/92 [==============================] - ETA: 0s - loss: 0.6119 - accuracy: 0.6585 - top_1_accuracy: 0.6585WARNING:tensorflow:Can save best model only with val_acc available, skipping.\n",
      "93/92 [==============================] - 822s 9s/step - loss: 0.6119 - accuracy: 0.6585 - top_1_accuracy: 0.6585 - val_loss: 0.5819 - val_accuracy: 0.6833 - val_top_1_accuracy: 0.6833\n",
      "Epoch 3/50\n",
      "93/92 [==============================] - ETA: 0s - loss: 0.5928 - accuracy: 0.6822 - top_1_accuracy: 0.6822WARNING:tensorflow:Can save best model only with val_acc available, skipping.\n",
      "93/92 [==============================] - 798s 9s/step - loss: 0.5928 - accuracy: 0.6822 - top_1_accuracy: 0.6822 - val_loss: 0.5530 - val_accuracy: 0.7178 - val_top_1_accuracy: 0.7178\n",
      "Epoch 4/50\n",
      "93/92 [==============================] - ETA: 0s - loss: 0.5645 - accuracy: 0.7005 - top_1_accuracy: 0.7005WARNING:tensorflow:Can save best model only with val_acc available, skipping.\n",
      "93/92 [==============================] - 783s 8s/step - loss: 0.5645 - accuracy: 0.7005 - top_1_accuracy: 0.7005 - val_loss: 0.5365 - val_accuracy: 0.7317 - val_top_1_accuracy: 0.7317\n",
      "Epoch 5/50\n",
      "93/92 [==============================] - ETA: 0s - loss: 0.5549 - accuracy: 0.7156 - top_1_accuracy: 0.7156WARNING:tensorflow:Can save best model only with val_acc available, skipping.\n",
      "93/92 [==============================] - 780s 8s/step - loss: 0.5549 - accuracy: 0.7156 - top_1_accuracy: 0.7156 - val_loss: 0.5327 - val_accuracy: 0.7293 - val_top_1_accuracy: 0.7293\n",
      "Epoch 6/50\n",
      "93/92 [==============================] - ETA: 0s - loss: 0.5441 - accuracy: 0.7158 - top_1_accuracy: 0.7158WARNING:tensorflow:Can save best model only with val_acc available, skipping.\n",
      "93/92 [==============================] - 788s 8s/step - loss: 0.5441 - accuracy: 0.7158 - top_1_accuracy: 0.7158 - val_loss: 0.5146 - val_accuracy: 0.7416 - val_top_1_accuracy: 0.7416\n",
      "Epoch 7/50\n",
      "93/92 [==============================] - ETA: 0s - loss: 0.5340 - accuracy: 0.7298 - top_1_accuracy: 0.7298WARNING:tensorflow:Can save best model only with val_acc available, skipping.\n",
      "93/92 [==============================] - 800s 9s/step - loss: 0.5340 - accuracy: 0.7298 - top_1_accuracy: 0.7298 - val_loss: 0.5105 - val_accuracy: 0.7473 - val_top_1_accuracy: 0.7473\n",
      "Epoch 8/50\n",
      "93/92 [==============================] - ETA: 0s - loss: 0.5263 - accuracy: 0.7255 - top_1_accuracy: 0.7255WARNING:tensorflow:Can save best model only with val_acc available, skipping.\n",
      "93/92 [==============================] - 813s 9s/step - loss: 0.5263 - accuracy: 0.7255 - top_1_accuracy: 0.7255 - val_loss: 0.5242 - val_accuracy: 0.7276 - val_top_1_accuracy: 0.7276\n",
      "Epoch 9/50\n",
      "93/92 [==============================] - ETA: 0s - loss: 0.5191 - accuracy: 0.7368 - top_1_accuracy: 0.7368WARNING:tensorflow:Can save best model only with val_acc available, skipping.\n",
      "93/92 [==============================] - 816s 9s/step - loss: 0.5191 - accuracy: 0.7368 - top_1_accuracy: 0.7368 - val_loss: 0.4937 - val_accuracy: 0.7514 - val_top_1_accuracy: 0.7514\n",
      "Epoch 10/50\n",
      "93/92 [==============================] - ETA: 0s - loss: 0.5070 - accuracy: 0.7446 - top_1_accuracy: 0.7446WARNING:tensorflow:Can save best model only with val_acc available, skipping.\n",
      "93/92 [==============================] - 821s 9s/step - loss: 0.5070 - accuracy: 0.7446 - top_1_accuracy: 0.7446 - val_loss: 0.4846 - val_accuracy: 0.7564 - val_top_1_accuracy: 0.7564\n",
      "Epoch 11/50\n",
      "93/92 [==============================] - ETA: 0s - loss: 0.4984 - accuracy: 0.7505 - top_1_accuracy: 0.7505WARNING:tensorflow:Can save best model only with val_acc available, skipping.\n",
      "93/92 [==============================] - 824s 9s/step - loss: 0.4984 - accuracy: 0.7505 - top_1_accuracy: 0.7505 - val_loss: 0.4892 - val_accuracy: 0.7539 - val_top_1_accuracy: 0.7539\n",
      "Epoch 12/50\n",
      "93/92 [==============================] - ETA: 0s - loss: 0.5058 - accuracy: 0.7419 - top_1_accuracy: 0.7419WARNING:tensorflow:Can save best model only with val_acc available, skipping.\n",
      "93/92 [==============================] - 824s 9s/step - loss: 0.5058 - accuracy: 0.7419 - top_1_accuracy: 0.7419 - val_loss: 0.4869 - val_accuracy: 0.7555 - val_top_1_accuracy: 0.7555\n",
      "Epoch 13/50\n",
      "93/92 [==============================] - ETA: 0s - loss: 0.4972 - accuracy: 0.7441 - top_1_accuracy: 0.7441WARNING:tensorflow:Can save best model only with val_acc available, skipping.\n",
      "93/92 [==============================] - 814s 9s/step - loss: 0.4972 - accuracy: 0.7441 - top_1_accuracy: 0.7441 - val_loss: 0.5017 - val_accuracy: 0.7416 - val_top_1_accuracy: 0.7416\n",
      "Epoch 14/50\n",
      "93/92 [==============================] - ETA: 0s - loss: 0.4878 - accuracy: 0.7551 - top_1_accuracy: 0.7551WARNING:tensorflow:Can save best model only with val_acc available, skipping.\n",
      "93/92 [==============================] - 790s 8s/step - loss: 0.4878 - accuracy: 0.7551 - top_1_accuracy: 0.7551 - val_loss: 0.4742 - val_accuracy: 0.7654 - val_top_1_accuracy: 0.7654\n",
      "Epoch 15/50\n",
      "93/92 [==============================] - ETA: 0s - loss: 0.4866 - accuracy: 0.7581 - top_1_accuracy: 0.7581WARNING:tensorflow:Can save best model only with val_acc available, skipping.\n",
      "93/92 [==============================] - 780s 8s/step - loss: 0.4866 - accuracy: 0.7581 - top_1_accuracy: 0.7581 - val_loss: 0.4675 - val_accuracy: 0.7719 - val_top_1_accuracy: 0.7719\n",
      "Epoch 16/50\n",
      "93/92 [==============================] - ETA: 0s - loss: 0.4830 - accuracy: 0.7591 - top_1_accuracy: 0.7591WARNING:tensorflow:Can save best model only with val_acc available, skipping.\n",
      "93/92 [==============================] - 795s 9s/step - loss: 0.4830 - accuracy: 0.7591 - top_1_accuracy: 0.7591 - val_loss: 0.4630 - val_accuracy: 0.7744 - val_top_1_accuracy: 0.7744\n",
      "Epoch 17/50\n",
      "93/92 [==============================] - ETA: 0s - loss: 0.4814 - accuracy: 0.7559 - top_1_accuracy: 0.7559WARNING:tensorflow:Can save best model only with val_acc available, skipping.\n",
      "93/92 [==============================] - 809s 9s/step - loss: 0.4814 - accuracy: 0.7559 - top_1_accuracy: 0.7559 - val_loss: 0.4608 - val_accuracy: 0.7654 - val_top_1_accuracy: 0.7654\n",
      "Epoch 18/50\n",
      "93/92 [==============================] - ETA: 0s - loss: 0.4744 - accuracy: 0.7640 - top_1_accuracy: 0.7640WARNING:tensorflow:Can save best model only with val_acc available, skipping.\n",
      "93/92 [==============================] - 815s 9s/step - loss: 0.4744 - accuracy: 0.7640 - top_1_accuracy: 0.7640 - val_loss: 0.4626 - val_accuracy: 0.7637 - val_top_1_accuracy: 0.7637\n",
      "Epoch 19/50\n",
      "93/92 [==============================] - ETA: 0s - loss: 0.4713 - accuracy: 0.7648 - top_1_accuracy: 0.7648WARNING:tensorflow:Can save best model only with val_acc available, skipping.\n",
      "93/92 [==============================] - 818s 9s/step - loss: 0.4713 - accuracy: 0.7648 - top_1_accuracy: 0.7648 - val_loss: 0.4548 - val_accuracy: 0.7736 - val_top_1_accuracy: 0.7736\n",
      "Epoch 20/50\n",
      "93/92 [==============================] - ETA: 0s - loss: 0.4627 - accuracy: 0.7718 - top_1_accuracy: 0.7718WARNING:tensorflow:Can save best model only with val_acc available, skipping.\n",
      "93/92 [==============================] - 821s 9s/step - loss: 0.4627 - accuracy: 0.7718 - top_1_accuracy: 0.7718 - val_loss: 0.4512 - val_accuracy: 0.7752 - val_top_1_accuracy: 0.7752\n",
      "Epoch 21/50\n",
      "93/92 [==============================] - ETA: 0s - loss: 0.4591 - accuracy: 0.7721 - top_1_accuracy: 0.7721WARNING:tensorflow:Can save best model only with val_acc available, skipping.\n",
      "93/92 [==============================] - 798s 9s/step - loss: 0.4591 - accuracy: 0.7721 - top_1_accuracy: 0.7721 - val_loss: 0.4494 - val_accuracy: 0.7744 - val_top_1_accuracy: 0.7744\n"
     ]
    },
    {
     "name": "stdout",
     "output_type": "stream",
     "text": [
      "Epoch 22/50\n",
      "93/92 [==============================] - ETA: 0s - loss: 0.4528 - accuracy: 0.7737 - top_1_accuracy: 0.7737WARNING:tensorflow:Can save best model only with val_acc available, skipping.\n",
      "93/92 [==============================] - 778s 8s/step - loss: 0.4528 - accuracy: 0.7737 - top_1_accuracy: 0.7737 - val_loss: 0.4436 - val_accuracy: 0.7719 - val_top_1_accuracy: 0.7719\n",
      "Epoch 23/50\n",
      "93/92 [==============================] - ETA: 0s - loss: 0.4556 - accuracy: 0.7750 - top_1_accuracy: 0.7750WARNING:tensorflow:Can save best model only with val_acc available, skipping.\n",
      "93/92 [==============================] - 775s 8s/step - loss: 0.4556 - accuracy: 0.7750 - top_1_accuracy: 0.7750 - val_loss: 0.4566 - val_accuracy: 0.7752 - val_top_1_accuracy: 0.7752\n",
      "Epoch 24/50\n",
      "93/92 [==============================] - ETA: 0s - loss: 0.4498 - accuracy: 0.7764 - top_1_accuracy: 0.7764WARNING:tensorflow:Can save best model only with val_acc available, skipping.\n",
      "93/92 [==============================] - 786s 8s/step - loss: 0.4498 - accuracy: 0.7764 - top_1_accuracy: 0.7764 - val_loss: 0.4417 - val_accuracy: 0.7760 - val_top_1_accuracy: 0.7760\n",
      "Epoch 25/50\n",
      "93/92 [==============================] - ETA: 0s - loss: 0.4516 - accuracy: 0.7801 - top_1_accuracy: 0.7801WARNING:tensorflow:Can save best model only with val_acc available, skipping.\n",
      "93/92 [==============================] - 803s 9s/step - loss: 0.4516 - accuracy: 0.7801 - top_1_accuracy: 0.7801 - val_loss: 0.4380 - val_accuracy: 0.7810 - val_top_1_accuracy: 0.7810\n",
      "Epoch 26/50\n",
      "93/92 [==============================] - ETA: 0s - loss: 0.4374 - accuracy: 0.7882 - top_1_accuracy: 0.7882WARNING:tensorflow:Can save best model only with val_acc available, skipping.\n",
      "93/92 [==============================] - 811s 9s/step - loss: 0.4374 - accuracy: 0.7882 - top_1_accuracy: 0.7882 - val_loss: 0.4397 - val_accuracy: 0.7752 - val_top_1_accuracy: 0.7752\n",
      "Epoch 27/50\n",
      "93/92 [==============================] - ETA: 0s - loss: 0.4358 - accuracy: 0.7869 - top_1_accuracy: 0.7869WARNING:tensorflow:Can save best model only with val_acc available, skipping.\n",
      "93/92 [==============================] - 816s 9s/step - loss: 0.4358 - accuracy: 0.7869 - top_1_accuracy: 0.7869 - val_loss: 0.4380 - val_accuracy: 0.7777 - val_top_1_accuracy: 0.7777\n",
      "Epoch 28/50\n",
      "93/92 [==============================] - ETA: 0s - loss: 0.4333 - accuracy: 0.7906 - top_1_accuracy: 0.7906WARNING:tensorflow:Can save best model only with val_acc available, skipping.\n",
      "93/92 [==============================] - 819s 9s/step - loss: 0.4333 - accuracy: 0.7906 - top_1_accuracy: 0.7906 - val_loss: 0.4321 - val_accuracy: 0.7818 - val_top_1_accuracy: 0.7818\n",
      "Epoch 29/50\n",
      "93/92 [==============================] - ETA: 0s - loss: 0.4356 - accuracy: 0.7850 - top_1_accuracy: 0.7850WARNING:tensorflow:Can save best model only with val_acc available, skipping.\n",
      "93/92 [==============================] - 821s 9s/step - loss: 0.4356 - accuracy: 0.7850 - top_1_accuracy: 0.7850 - val_loss: 0.4330 - val_accuracy: 0.7703 - val_top_1_accuracy: 0.7703\n",
      "Epoch 30/50\n",
      "93/92 [==============================] - ETA: 0s - loss: 0.4260 - accuracy: 0.7931 - top_1_accuracy: 0.7931WARNING:tensorflow:Can save best model only with val_acc available, skipping.\n",
      "93/92 [==============================] - 824s 9s/step - loss: 0.4260 - accuracy: 0.7931 - top_1_accuracy: 0.7931 - val_loss: 0.4289 - val_accuracy: 0.7785 - val_top_1_accuracy: 0.7785\n",
      "Epoch 31/50\n",
      "93/92 [==============================] - ETA: 0s - loss: 0.4245 - accuracy: 0.8041 - top_1_accuracy: 0.8041WARNING:tensorflow:Can save best model only with val_acc available, skipping.\n",
      "93/92 [==============================] - 803s 9s/step - loss: 0.4245 - accuracy: 0.8041 - top_1_accuracy: 0.8041 - val_loss: 0.5004 - val_accuracy: 0.7400 - val_top_1_accuracy: 0.7400\n",
      "Epoch 32/50\n",
      "93/92 [==============================] - ETA: 0s - loss: 0.4377 - accuracy: 0.7879 - top_1_accuracy: 0.7879WARNING:tensorflow:Can save best model only with val_acc available, skipping.\n",
      "93/92 [==============================] - 787s 8s/step - loss: 0.4377 - accuracy: 0.7879 - top_1_accuracy: 0.7879 - val_loss: 0.4498 - val_accuracy: 0.7793 - val_top_1_accuracy: 0.7793\n",
      "Epoch 33/50\n",
      "93/92 [==============================] - ETA: 0s - loss: 0.4215 - accuracy: 0.7939 - top_1_accuracy: 0.7939WARNING:tensorflow:Can save best model only with val_acc available, skipping.\n",
      "93/92 [==============================] - 788s 8s/step - loss: 0.4215 - accuracy: 0.7939 - top_1_accuracy: 0.7939 - val_loss: 0.4302 - val_accuracy: 0.7769 - val_top_1_accuracy: 0.7769\n",
      "Epoch 34/50\n",
      "93/92 [==============================] - ETA: 0s - loss: 0.4128 - accuracy: 0.8001 - top_1_accuracy: 0.8001WARNING:tensorflow:Can save best model only with val_acc available, skipping.\n",
      "93/92 [==============================] - 805s 9s/step - loss: 0.4128 - accuracy: 0.8001 - top_1_accuracy: 0.8001 - val_loss: 0.4254 - val_accuracy: 0.7801 - val_top_1_accuracy: 0.7801\n",
      "Epoch 35/50\n",
      "93/92 [==============================] - ETA: 0s - loss: 0.4159 - accuracy: 0.8030 - top_1_accuracy: 0.8030WARNING:tensorflow:Can save best model only with val_acc available, skipping.\n",
      "93/92 [==============================] - 814s 9s/step - loss: 0.4159 - accuracy: 0.8030 - top_1_accuracy: 0.8030 - val_loss: 0.4197 - val_accuracy: 0.7900 - val_top_1_accuracy: 0.7900\n",
      "Epoch 36/50\n",
      "93/92 [==============================] - ETA: 0s - loss: 0.4179 - accuracy: 0.7957 - top_1_accuracy: 0.7957WARNING:tensorflow:Can save best model only with val_acc available, skipping.\n",
      "93/92 [==============================] - 817s 9s/step - loss: 0.4179 - accuracy: 0.7957 - top_1_accuracy: 0.7957 - val_loss: 0.4355 - val_accuracy: 0.7760 - val_top_1_accuracy: 0.7760\n",
      "Epoch 37/50\n",
      "93/92 [==============================] - ETA: 0s - loss: 0.4037 - accuracy: 0.8097 - top_1_accuracy: 0.8097WARNING:tensorflow:Can save best model only with val_acc available, skipping.\n",
      "93/92 [==============================] - 822s 9s/step - loss: 0.4037 - accuracy: 0.8097 - top_1_accuracy: 0.8097 - val_loss: 0.4236 - val_accuracy: 0.7892 - val_top_1_accuracy: 0.7892\n",
      "Epoch 38/50\n",
      "93/92 [==============================] - ETA: 0s - loss: 0.4039 - accuracy: 0.8071 - top_1_accuracy: 0.8071WARNING:tensorflow:Can save best model only with val_acc available, skipping.\n",
      "93/92 [==============================] - 821s 9s/step - loss: 0.4039 - accuracy: 0.8071 - top_1_accuracy: 0.8071 - val_loss: 0.4646 - val_accuracy: 0.7785 - val_top_1_accuracy: 0.7785\n",
      "Epoch 39/50\n",
      "93/92 [==============================] - ETA: 0s - loss: 0.4045 - accuracy: 0.8103 - top_1_accuracy: 0.8103WARNING:tensorflow:Can save best model only with val_acc available, skipping.\n",
      "93/92 [==============================] - 798s 9s/step - loss: 0.4045 - accuracy: 0.8103 - top_1_accuracy: 0.8103 - val_loss: 0.4259 - val_accuracy: 0.7834 - val_top_1_accuracy: 0.7834\n",
      "Epoch 40/50\n",
      "93/92 [==============================] - ETA: 0s - loss: 0.4204 - accuracy: 0.7995 - top_1_accuracy: 0.7995WARNING:tensorflow:Can save best model only with val_acc available, skipping.\n",
      "93/92 [==============================] - 785s 8s/step - loss: 0.4204 - accuracy: 0.7995 - top_1_accuracy: 0.7995 - val_loss: 0.4286 - val_accuracy: 0.7801 - val_top_1_accuracy: 0.7801\n",
      "Epoch 41/50\n",
      "93/92 [==============================] - ETA: 0s - loss: 0.4026 - accuracy: 0.8130 - top_1_accuracy: 0.8130WARNING:tensorflow:Can save best model only with val_acc available, skipping.\n",
      "93/92 [==============================] - 782s 8s/step - loss: 0.4026 - accuracy: 0.8130 - top_1_accuracy: 0.8130 - val_loss: 0.4240 - val_accuracy: 0.7760 - val_top_1_accuracy: 0.7760\n",
      "Epoch 42/50\n",
      "93/92 [==============================] - ETA: 0s - loss: 0.3909 - accuracy: 0.8184 - top_1_accuracy: 0.8184WARNING:tensorflow:Can save best model only with val_acc available, skipping.\n",
      "93/92 [==============================] - 780s 8s/step - loss: 0.3909 - accuracy: 0.8184 - top_1_accuracy: 0.8184 - val_loss: 0.4583 - val_accuracy: 0.7629 - val_top_1_accuracy: 0.7629\n",
      "Epoch 43/50\n",
      "93/92 [==============================] - ETA: 0s - loss: 0.3990 - accuracy: 0.8119 - top_1_accuracy: 0.8119WARNING:tensorflow:Can save best model only with val_acc available, skipping.\n"
     ]
    },
    {
     "name": "stdout",
     "output_type": "stream",
     "text": [
      "93/92 [==============================] - 780s 8s/step - loss: 0.3990 - accuracy: 0.8119 - top_1_accuracy: 0.8119 - val_loss: 0.4375 - val_accuracy: 0.7810 - val_top_1_accuracy: 0.7810\n",
      "Epoch 44/50\n",
      "93/92 [==============================] - ETA: 0s - loss: 0.3882 - accuracy: 0.8154 - top_1_accuracy: 0.8154WARNING:tensorflow:Can save best model only with val_acc available, skipping.\n",
      "93/92 [==============================] - 793s 9s/step - loss: 0.3882 - accuracy: 0.8154 - top_1_accuracy: 0.8154 - val_loss: 0.4194 - val_accuracy: 0.7908 - val_top_1_accuracy: 0.7908\n",
      "Epoch 45/50\n",
      "93/92 [==============================] - ETA: 0s - loss: 0.3825 - accuracy: 0.8186 - top_1_accuracy: 0.8186WARNING:tensorflow:Can save best model only with val_acc available, skipping.\n",
      "93/92 [==============================] - 805s 9s/step - loss: 0.3825 - accuracy: 0.8186 - top_1_accuracy: 0.8186 - val_loss: 0.4125 - val_accuracy: 0.7892 - val_top_1_accuracy: 0.7892\n",
      "Epoch 46/50\n",
      "93/92 [==============================] - ETA: 0s - loss: 0.3874 - accuracy: 0.8194 - top_1_accuracy: 0.8194WARNING:tensorflow:Can save best model only with val_acc available, skipping.\n",
      "93/92 [==============================] - 807s 9s/step - loss: 0.3874 - accuracy: 0.8194 - top_1_accuracy: 0.8194 - val_loss: 0.4148 - val_accuracy: 0.7916 - val_top_1_accuracy: 0.7916\n",
      "Epoch 47/50\n",
      "93/92 [==============================] - ETA: 0s - loss: 0.3954 - accuracy: 0.8111 - top_1_accuracy: 0.8111WARNING:tensorflow:Can save best model only with val_acc available, skipping.\n",
      "93/92 [==============================] - 790s 8s/step - loss: 0.3954 - accuracy: 0.8111 - top_1_accuracy: 0.8111 - val_loss: 0.4822 - val_accuracy: 0.7670 - val_top_1_accuracy: 0.7670\n",
      "Epoch 48/50\n",
      "93/92 [==============================] - ETA: 0s - loss: 0.3850 - accuracy: 0.8186 - top_1_accuracy: 0.8186WARNING:tensorflow:Can save best model only with val_acc available, skipping.\n",
      "93/92 [==============================] - 798s 9s/step - loss: 0.3850 - accuracy: 0.8186 - top_1_accuracy: 0.8186 - val_loss: 0.4231 - val_accuracy: 0.7892 - val_top_1_accuracy: 0.7892\n",
      "Epoch 49/50\n",
      "93/92 [==============================] - ETA: 0s - loss: 0.3860 - accuracy: 0.8111 - top_1_accuracy: 0.8111WARNING:tensorflow:Can save best model only with val_acc available, skipping.\n",
      "93/92 [==============================] - 792s 9s/step - loss: 0.3860 - accuracy: 0.8111 - top_1_accuracy: 0.8111 - val_loss: 0.4140 - val_accuracy: 0.7900 - val_top_1_accuracy: 0.7900\n",
      "Epoch 50/50\n",
      "93/92 [==============================] - ETA: 0s - loss: 0.3716 - accuracy: 0.8253 - top_1_accuracy: 0.8253WARNING:tensorflow:Can save best model only with val_acc available, skipping.\n",
      "93/92 [==============================] - 783s 8s/step - loss: 0.3716 - accuracy: 0.8253 - top_1_accuracy: 0.8253 - val_loss: 0.4181 - val_accuracy: 0.7875 - val_top_1_accuracy: 0.7875\n"
     ]
    },
    {
     "data": {
      "text/plain": [
       "<tensorflow.python.keras.callbacks.History at 0x7fc96e70c650>"
      ]
     },
     "execution_count": 9,
     "metadata": {},
     "output_type": "execute_result"
    }
   ],
   "source": [
    "from keras.callbacks import ModelCheckpoint, TensorBoard\n",
    "from time import time\n",
    "\n",
    "tensorboard = TensorBoard(log_dir=\"logs/layers_frozen_{}\".format(num_layers_to_freeze))\n",
    "\n",
    "# checkpoint\n",
    "filepath=\"esc50_vgg16_stft_weights_train_last_2_base_layers.best.hdf5\"\n",
    "best_model_checkpoint = ModelCheckpoint(filepath, monitor='val_acc', verbose=1, save_best_only=True, mode='max')\n",
    "callbacks_list = [best_model_checkpoint, tensorboard]\n",
    "\n",
    "# parallel_model.fit_generator(\n",
    "#     training_generator,\n",
    "#     steps_per_epoch=nb_training_samples/batch_size,\n",
    "#     epochs=epochs,\n",
    "#     validation_data=validation_generator,\n",
    "#     validation_steps=nb_validation_samples/batch_size,\n",
    "#     callbacks=callbacks_list)\n",
    "\n",
    "model.fit_generator(\n",
    "    training_generator,\n",
    "    steps_per_epoch=nb_training_samples/batch_size,\n",
    "    epochs=epochs,\n",
    "    validation_data=validation_generator,\n",
    "    validation_steps=nb_validation_samples/batch_size,\n",
    "    callbacks=callbacks_list)\n",
    "# parallel_model.fit_generator(\n",
    "#     training_generator,\n",
    "#     samples_per_epoch=nb_training_samples,\n",
    "#     epochs=epochs,\n",
    "#     validation_data=validation_generator,\n",
    "#     validation_steps=nb_validation_samples/batch_size,)\n",
    "#     nb_val_samples=nb_validation_samples)"
   ]
  },
  {
   "cell_type": "markdown",
   "metadata": {},
   "source": [
    "# Get top k predictions for selected test files"
   ]
  },
  {
   "cell_type": "code",
   "execution_count": 10,
   "metadata": {},
   "outputs": [],
   "source": [
    "def get_top_k_predictions(preds, label_map, k=1, print_flag=False):\n",
    "    sorted_array = np.argsort(preds)[::-1]\n",
    "    top_k = sorted_array[:k]\n",
    "    label_map_flip = dict((v,k) for k,v in label_map.items())\n",
    "    \n",
    "    y_pred = []\n",
    "    for label_index in top_k:\n",
    "        if print_flag:\n",
    "            print (\"{} ({})\".format(label_map_flip[label_index], preds[label_index]))\n",
    "        y_pred.append(label_map_flip[label_index])\n",
    "        \n",
    "    return y_pred"
   ]
  },
  {
   "cell_type": "code",
   "execution_count": 11,
   "metadata": {},
   "outputs": [
    {
     "data": {
      "text/plain": [
       "['sick', 'not_sick']"
      ]
     },
     "execution_count": 11,
     "metadata": {},
     "output_type": "execute_result"
    }
   ],
   "source": [
    "label_map = (training_generator.class_indices)\n",
    " \n",
    "json2 = json.dumps(label_map)\n",
    "f = open(\"cough_label_map.json\",\"w\")\n",
    "f.write(json2)\n",
    "f.close()\n",
    "\n",
    "img_path = '/Users/xt/Desktop/OSF/spectrograms/test/sick/audioset__3RvCwwIZ4w_10_15.png'\n",
    "img = image.load_img(img_path, target_size=(224, 224))\n",
    "x = image.img_to_array(img)\n",
    "x = np.expand_dims(x, axis=0)* 1./255\n",
    "\n",
    "preds = model.predict(x)[0]\n",
    "\n",
    "get_top_k_predictions(preds, label_map, k=1)"
   ]
  },
  {
   "cell_type": "code",
   "execution_count": 14,
   "metadata": {},
   "outputs": [
    {
     "data": {
      "image/png": "[encoded data removed]",
      "text/plain": [
       "<PIL.Image.Image image mode=RGB size=224x224 at 0x7FC6C2A9D6D0>"
      ]
     },
     "execution_count": 14,
     "metadata": {},
     "output_type": "execute_result"
    }
   ],
   "source": [
    "img"
   ]
  },
  {
   "cell_type": "markdown",
   "metadata": {},
   "source": [
    "# Calculate and plot confusion matrix"
   ]
  },
  {
   "cell_type": "code",
   "execution_count": 12,
   "metadata": {},
   "outputs": [],
   "source": [
    "import itertools\n",
    "import matplotlib.pyplot as plt\n",
    "def plot_confusion_matrix(cm, classes,\n",
    "                          normalize=False,\n",
    "                          title='Confusion matrix',\n",
    "                          cmap=plt.cm.Blues):\n",
    "    \"\"\"\n",
    "    This function prints and plots the confusion matrix.\n",
    "    Normalization can be applied by setting `normalize=True`.\n",
    "    \"\"\"\n",
    "    if normalize:\n",
    "        cm = cm.astype('float') / cm.sum(axis=1)[:, np.newaxis]\n",
    "        print(\"Normalized confusion matrix\")\n",
    "    else:\n",
    "        print('Confusion matrix, without normalization')\n",
    "\n",
    "#     print(cm)\n",
    "    plt.figure(figsize=(24,24))\n",
    "    plt.imshow(cm, interpolation='nearest', cmap=cmap)\n",
    "    plt.title(title)\n",
    "    plt.colorbar()\n",
    "    tick_marks = np.arange(len(classes))\n",
    "    plt.xticks(tick_marks, classes, rotation=90)\n",
    "    plt.yticks(tick_marks, classes)\n",
    "\n",
    "    fmt = '.2f' if normalize else 'd'\n",
    "    thresh = cm.max() / 2.\n",
    "    for i, j in itertools.product(range(cm.shape[0]), range(cm.shape[1])):\n",
    "        plt.text(j, i, format(cm[i, j], fmt),\n",
    "                 horizontalalignment=\"center\",\n",
    "                 color=\"white\" if cm[i, j] > thresh else \"black\")\n",
    "\n",
    "    plt.tight_layout()\n",
    "    plt.ylabel('True label')\n",
    "    plt.xlabel('Predicted label')\n",
    "    "
   ]
  },
  {
   "cell_type": "code",
   "execution_count": 13,
   "metadata": {},
   "outputs": [
    {
     "name": "stdout",
     "output_type": "stream",
     "text": [
      "Normalized confusion matrix\n"
     ]
    },
    {
     "data": {
      "image/png": "[encoded data removed]",
      "text/plain": [
       "<Figure size 1728x1728 with 2 Axes>"
      ]
     },
     "metadata": {
      "needs_background": "light"
     },
     "output_type": "display_data"
    }
   ],
   "source": [
    "import os\n",
    "import io\n",
    "import requests\n",
    "import urllib.request\n",
    "from PIL import Image\n",
    "from keras.preprocessing import image\n",
    "from sklearn.metrics import confusion_matrix\n",
    "\n",
    "testing_dir = '/Users/xt/Desktop/OSF/spectrograms/test/'\n",
    "\n",
    "y_true = []\n",
    "y_pred = []\n",
    "for label in label_map.keys():\n",
    "    file_list = os.listdir(testing_dir + label)\n",
    "    for file_name in file_list:\n",
    "        if file_name != '.DS_Store':\n",
    "            img_path = testing_dir + label + '/' + file_name\n",
    "            img = image.load_img(img_path, target_size=(224, 224))\n",
    "            \n",
    "            x = image.img_to_array(img)\n",
    "            x = np.expand_dims(x, axis=0)* 1./255\n",
    "            \n",
    "            preds = model.predict(x)[0]\n",
    "            \n",
    "            y_true.append(label)\n",
    "            y_pred.append(get_top_k_predictions(preds, label_map, k=1)[0])\n",
    "        \n",
    "cm = confusion_matrix(y_true, y_pred)\n",
    "\n",
    "plot_confusion_matrix(cm, sorted(label_map.keys()), normalize=True)"
   ]
  },
  {
   "cell_type": "code",
   "execution_count": null,
   "metadata": {},
   "outputs": [],
   "source": []
  }
 ],
 "metadata": {
  "kernelspec": {
   "display_name": "Python 3",
   "language": "python",
   "name": "python3"
  },
  "language_info": {
   "codemirror_mode": {
    "name": "ipython",
    "version": 3
   },
   "file_extension": ".py",
   "mimetype": "text/x-python",
   "name": "python",
   "nbconvert_exporter": "python",
   "pygments_lexer": "ipython3",
   "version": "3.7.6"
  }
 },
 "nbformat": 4,
 "nbformat_minor": 2
}
